{
 "cells": [
  {
   "cell_type": "markdown",
   "metadata": {},
   "source": [
    "## Loops\n",
    "### while loop"
   ]
  },
  {
   "cell_type": "code",
   "execution_count": 10,
   "metadata": {
    "scrolled": false
   },
   "outputs": [
    {
     "name": "stdout",
     "output_type": "stream",
     "text": [
      "0\n",
      "1\n",
      "2\n",
      "3\n",
      "4\n",
      "5\n",
      "6\n",
      "7\n",
      "8\n",
      "9\n",
      "10\n"
     ]
    }
   ],
   "source": [
    "# Repeats a statement or group of statements while a given condition is TRUE.\n",
    "# It tests the condition before executing the loop body.\n",
    "counter = 0\n",
    "while counter <= 10:\n",
    "    print(counter)\n",
    "    counter += 1"
   ]
  },
  {
   "cell_type": "code",
   "execution_count": 9,
   "metadata": {},
   "outputs": [
    {
     "data": {
      "text/plain": [
       "21"
      ]
     },
     "execution_count": 9,
     "metadata": {},
     "output_type": "execute_result"
    }
   ],
   "source": [
    "counter"
   ]
  },
  {
   "cell_type": "markdown",
   "metadata": {},
   "source": [
    "### for loop"
   ]
  },
  {
   "cell_type": "code",
   "execution_count": 12,
   "metadata": {},
   "outputs": [
    {
     "name": "stdout",
     "output_type": "stream",
     "text": [
      "pooya Rezayi\n",
      "minoo Rezayi\n",
      "you Rezayi\n"
     ]
    }
   ],
   "source": [
    "lst = ['pooya', 'minoo', 'you']\n",
    "for name in lst:\n",
    "    print(name + ' Rezayi')"
   ]
  },
  {
   "cell_type": "code",
   "execution_count": 14,
   "metadata": {
    "scrolled": false
   },
   "outputs": [
    {
     "name": "stdout",
     "output_type": "stream",
     "text": [
      "HHH\n",
      "eee\n",
      "lll\n",
      "lll\n",
      "ooo\n",
      "   \n",
      "WWW\n",
      "ooo\n",
      "rrr\n",
      "lll\n",
      "ddd\n"
     ]
    }
   ],
   "source": [
    "str_ = 'Hello World'\n",
    "for ch in str_:\n",
    "    print(ch * 3)"
   ]
  },
  {
   "cell_type": "code",
   "execution_count": 15,
   "metadata": {},
   "outputs": [
    {
     "name": "stdout",
     "output_type": "stream",
     "text": [
      "ayoop\n"
     ]
    }
   ],
   "source": [
    "var = 'pooya'\n",
    "print(var[::-1])"
   ]
  },
  {
   "cell_type": "code",
   "execution_count": null,
   "metadata": {},
   "outputs": [],
   "source": [
    "# for (counter) in (iterable):\n",
    "#     statement\n",
    "#e.g. print(counter)"
   ]
  },
  {
   "cell_type": "code",
   "execution_count": 20,
   "metadata": {},
   "outputs": [
    {
     "name": "stdout",
     "output_type": "stream",
     "text": [
      "a 0\n",
      "y 1\n",
      "o 2\n",
      "o 2\n",
      "p 4\n"
     ]
    }
   ],
   "source": [
    "# print your name backward\n",
    "var='pooya'\n",
    "# res: a\n",
    "#      y\n",
    "for ch in var[::-1]:\n",
    "    print(ch, var[::-1].index(ch))\n"
   ]
  },
  {
   "cell_type": "code",
   "execution_count": 23,
   "metadata": {},
   "outputs": [
    {
     "name": "stdout",
     "output_type": "stream",
     "text": [
      "pooya ['pooya', 'menoo', 'golsa']\n",
      "menoo ['pooya', 'menoo', 'golsa']\n",
      "golsa ['pooya', 'menoo', 'golsa']\n"
     ]
    }
   ],
   "source": [
    "# print lst, len(lst) times\n",
    "lst = ['pooya', 'menoo', 'golsa']\n",
    "# res: ['pooya', 'menoo', 'golsa']\n",
    "#      ['pooya', 'menoo', 'golsa']\n",
    "#      ['pooya', 'menoo', 'golsa']\n",
    "for i in lst:\n",
    "    print(i, lst)"
   ]
  },
  {
   "cell_type": "code",
   "execution_count": 24,
   "metadata": {},
   "outputs": [
    {
     "data": {
      "text/plain": [
       "[-5, 228, 10, 408]"
      ]
     },
     "execution_count": 24,
     "metadata": {},
     "output_type": "execute_result"
    }
   ],
   "source": [
    "lst_1 = [-10, 222, 3, 400]\n",
    "lst_2 = [5, 6, 7, 8]\n",
    "# sum lst_1 and lst_2 element_wise: use for\n",
    "# res: [6, 8, 10, 12]\n",
    "n = 0\n",
    "res = []\n",
    "for l in lst_1:\n",
    "    res.append(l + lst_2[n])\n",
    "    n +=1\n",
    "res"
   ]
  },
  {
   "cell_type": "code",
   "execution_count": 25,
   "metadata": {},
   "outputs": [
    {
     "data": {
      "text/plain": [
       "[-5, 228, 10, 408]"
      ]
     },
     "execution_count": 25,
     "metadata": {},
     "output_type": "execute_result"
    }
   ],
   "source": [
    "res = []\n",
    "for l in lst_1:\n",
    "    res.append(l + lst_2[lst_1.index(l)])\n",
    "res"
   ]
  },
  {
   "cell_type": "markdown",
   "metadata": {},
   "source": [
    "### Range\n",
    "The built-in range function in Python is very useful to generate sequences of \n",
    "numbers in the form of a list. \n",
    "\n",
    "The given end point is never part of the generated list; \n",
    "\n",
    "range(10) generates a list of 10 values, the legal indices for items of a \n",
    "sequence of length 10. \n",
    "\n",
    "It is possible to let the range start at another number, or to specify a\n",
    "different increment (even negative; \n",
    "\n",
    "Sometimes this is called the ‘step’):"
   ]
  },
  {
   "cell_type": "code",
   "execution_count": 26,
   "metadata": {},
   "outputs": [
    {
     "data": {
      "text/plain": [
       "range(0, 10)"
      ]
     },
     "execution_count": 26,
     "metadata": {},
     "output_type": "execute_result"
    }
   ],
   "source": [
    "range(10)"
   ]
  },
  {
   "cell_type": "code",
   "execution_count": 27,
   "metadata": {},
   "outputs": [
    {
     "data": {
      "text/plain": [
       "[0, 1, 2, 3, 4, 5, 6, 7, 8, 9]"
      ]
     },
     "execution_count": 27,
     "metadata": {},
     "output_type": "execute_result"
    }
   ],
   "source": [
    "list(range(10))"
   ]
  },
  {
   "cell_type": "code",
   "execution_count": 28,
   "metadata": {},
   "outputs": [
    {
     "data": {
      "text/plain": [
       "[1, 2, 3, 4, 5, 6, 7, 8, 9]"
      ]
     },
     "execution_count": 28,
     "metadata": {},
     "output_type": "execute_result"
    }
   ],
   "source": [
    "list(range(1,10))"
   ]
  },
  {
   "cell_type": "code",
   "execution_count": 29,
   "metadata": {},
   "outputs": [
    {
     "data": {
      "text/plain": [
       "[1, 3, 5, 7, 9]"
      ]
     },
     "execution_count": 29,
     "metadata": {},
     "output_type": "execute_result"
    }
   ],
   "source": [
    "list(range(1,10,2))\n",
    "# range(start, stop, step) or range(stop) = range(0, stop, 1)"
   ]
  },
  {
   "cell_type": "code",
   "execution_count": 30,
   "metadata": {},
   "outputs": [
    {
     "name": "stdout",
     "output_type": "stream",
     "text": [
      "1\n",
      "3\n",
      "5\n",
      "7\n",
      "9\n"
     ]
    }
   ],
   "source": [
    "# Executes a sequence of statements multiple times and abbreviates the code that manages the loop variable.\n",
    "for counter in list(range(1,10,2)):\n",
    "    print(counter)"
   ]
  },
  {
   "cell_type": "code",
   "execution_count": 31,
   "metadata": {},
   "outputs": [
    {
     "data": {
      "text/plain": [
       "range(0, 10)"
      ]
     },
     "execution_count": 31,
     "metadata": {},
     "output_type": "execute_result"
    }
   ],
   "source": [
    "range(10)"
   ]
  },
  {
   "cell_type": "code",
   "execution_count": 32,
   "metadata": {},
   "outputs": [
    {
     "name": "stdout",
     "output_type": "stream",
     "text": [
      "0\n",
      "1\n",
      "2\n",
      "3\n",
      "4\n",
      "5\n",
      "6\n",
      "7\n",
      "8\n",
      "9\n"
     ]
    }
   ],
   "source": [
    "for counter in range(10):\n",
    "    print(counter)"
   ]
  },
  {
   "cell_type": "code",
   "execution_count": 33,
   "metadata": {},
   "outputs": [
    {
     "data": {
      "text/plain": [
       "([-10, 222, 3, 400], [5, 6, 7, 8])"
      ]
     },
     "execution_count": 33,
     "metadata": {},
     "output_type": "execute_result"
    }
   ],
   "source": [
    "lst_1, lst_2"
   ]
  },
  {
   "cell_type": "code",
   "execution_count": 34,
   "metadata": {},
   "outputs": [
    {
     "name": "stdout",
     "output_type": "stream",
     "text": [
      "-5\n",
      "228\n",
      "10\n",
      "408\n"
     ]
    }
   ],
   "source": [
    "for i in range(len(lst_1)):\n",
    "    print(lst_1[i]+lst_2[i])"
   ]
  },
  {
   "cell_type": "code",
   "execution_count": 56,
   "metadata": {},
   "outputs": [
    {
     "name": "stdout",
     "output_type": "stream",
     "text": [
      "12\n",
      "10\n",
      "menoo\n",
      "pooya\n"
     ]
    }
   ],
   "source": [
    "lst = ['pooya', 'menoo', 10, 12]\n",
    "# print lst backwards using range  \n",
    "\n",
    "for l in range(len(lst)):\n",
    "    print(lst[-(l + 1)])"
   ]
  },
  {
   "cell_type": "code",
   "execution_count": 58,
   "metadata": {},
   "outputs": [
    {
     "name": "stdout",
     "output_type": "stream",
     "text": [
      "11\n",
      "14\n",
      "19\n",
      "26\n",
      "35\n",
      "46\n",
      "[1, 4, 9, 16, 25, 36]\n"
     ]
    }
   ],
   "source": [
    "# not recommended\n",
    "list_ =[1, 4, 9, 16, 25, 36]\n",
    "for t in range(len(list_)):\n",
    "    print(list_[t] + 10)"
   ]
  },
  {
   "cell_type": "code",
   "execution_count": 59,
   "metadata": {},
   "outputs": [
    {
     "name": "stdout",
     "output_type": "stream",
     "text": [
      "11\n",
      "14\n",
      "19\n",
      "26\n",
      "35\n",
      "46\n"
     ]
    }
   ],
   "source": [
    "list_ =[1, 4, 9, 16, 25, 36]\n",
    "for t in list_:\n",
    "    print(t + 10)"
   ]
  },
  {
   "cell_type": "markdown",
   "metadata": {},
   "source": [
    "### break statement"
   ]
  },
  {
   "cell_type": "code",
   "execution_count": 64,
   "metadata": {},
   "outputs": [
    {
     "name": "stdout",
     "output_type": "stream",
     "text": [
      "0\n",
      "1\n",
      "2\n",
      "3\n",
      "4\n",
      "5\n",
      "6\n",
      "7\n",
      "8\n",
      "9\n",
      "break statement has been triggered\n"
     ]
    }
   ],
   "source": [
    "# Terminates the loop statement and transfers execution to the statement immediately following the loop.\n",
    "counter = 0\n",
    "while True:\n",
    "    print(counter)\n",
    "    counter += 1\n",
    "    if counter >= 10:\n",
    "        break\n",
    "print(\"break statement has been triggered\")"
   ]
  },
  {
   "cell_type": "markdown",
   "metadata": {},
   "source": [
    "### continue statement"
   ]
  },
  {
   "cell_type": "code",
   "execution_count": 66,
   "metadata": {},
   "outputs": [
    {
     "name": "stdout",
     "output_type": "stream",
     "text": [
      "0\n",
      ">>>  0\n",
      ">>>  1\n",
      ">>>  2\n",
      ">>>  3\n",
      ">>>  4\n",
      ">>>  5\n",
      ">>>  6\n",
      ">>>  7\n",
      ">>>  8\n",
      ">>>  9\n",
      "1\n",
      ">>>  0\n",
      ">>>  1\n",
      ">>>  2\n",
      ">>>  3\n",
      ">>>  4\n",
      ">>>  5\n",
      ">>>  6\n",
      ">>>  7\n",
      ">>>  8\n",
      ">>>  9\n"
     ]
    }
   ],
   "source": [
    "for _ in range(2):\n",
    "    print(_)\n",
    "    for counter in range(10):\n",
    "        print('>>> ', counter)"
   ]
  },
  {
   "cell_type": "code",
   "execution_count": 67,
   "metadata": {},
   "outputs": [
    {
     "name": "stdout",
     "output_type": "stream",
     "text": [
      "0\n",
      "1\n",
      "2\n",
      "3\n",
      "4\n",
      "6\n",
      "7\n",
      "8\n",
      "9\n",
      "0\n",
      "1\n",
      "2\n",
      "3\n",
      "4\n",
      "6\n",
      "7\n",
      "8\n",
      "9\n"
     ]
    }
   ],
   "source": [
    "# Causes the loop to skip the remainder of its body and immediately retest its condition prior to reiterating.\n",
    "for _ in range(2):\n",
    "    for counter in range(10):\n",
    "        if counter == 5:\n",
    "            continue\n",
    "        print(counter)"
   ]
  },
  {
   "cell_type": "markdown",
   "metadata": {},
   "source": [
    "*:)*"
   ]
  }
 ],
 "metadata": {
  "kernelspec": {
   "display_name": "Python 3 (ipykernel)",
   "language": "python",
   "name": "python3"
  },
  "language_info": {
   "codemirror_mode": {
    "name": "ipython",
    "version": 3
   },
   "file_extension": ".py",
   "mimetype": "text/x-python",
   "name": "python",
   "nbconvert_exporter": "python",
   "pygments_lexer": "ipython3",
   "version": "3.10.4"
  }
 },
 "nbformat": 4,
 "nbformat_minor": 2
}
