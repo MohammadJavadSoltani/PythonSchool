{
 "cells": [
  {
   "cell_type": "markdown",
   "id": "1cc14ec7",
   "metadata": {},
   "source": [
    "### Data Type Conversion\n",
    "1. string digit to int and int to string\n",
    "2. float to int & int to float\n",
    "3. set/list to tuple\n",
    "4. tuple/list to set \n",
    "5. Value Error\n",
    "6. Type Error"
   ]
  },
  {
   "cell_type": "code",
   "execution_count": 3,
   "id": "5efcae39",
   "metadata": {},
   "outputs": [
    {
     "name": "stdout",
     "output_type": "stream",
     "text": [
      "str_to_int 20 <class 'int'>\n",
      "int_to_str 10 <class 'str'>\n"
     ]
    }
   ],
   "source": [
    "str_to_int = int('20')\n",
    "print('str_to_int', str_to_int, type(str_to_int))\n",
    "\n",
    "int_to_str = str(10)\n",
    "print('int_to_str', int_to_str, type(int_to_str))"
   ]
  },
  {
   "cell_type": "code",
   "execution_count": 4,
   "id": "2dc60e60",
   "metadata": {},
   "outputs": [
    {
     "name": "stdout",
     "output_type": "stream",
     "text": [
      "float_to_int 10 <class 'int'>\n",
      "int_to_float 10.0 <class 'float'>\n"
     ]
    }
   ],
   "source": [
    "float_to_int = int(10.36)\n",
    "print('float_to_int', float_to_int, type(float_to_int))\n",
    "\n",
    "int_to_float = float(10)\n",
    "print('int_to_float', int_to_float, type(int_to_float))"
   ]
  },
  {
   "cell_type": "code",
   "execution_count": 5,
   "id": "bbc719c6",
   "metadata": {},
   "outputs": [
    {
     "name": "stdout",
     "output_type": "stream",
     "text": [
      "set_to_tuple (10, 20, 30) <class 'tuple'>\n",
      "list_to_tuple  {10, 20} <class 'set'>\n"
     ]
    }
   ],
   "source": [
    "set_to_tuple = tuple({10,20,20,30})\n",
    "print('set_to_tuple', set_to_tuple, type(set_to_tuple))\n",
    "\n",
    "list_to_tuple = set((10,20,10))\n",
    "print('list_to_tuple ',list_to_tuple, type(list_to_tuple))"
   ]
  },
  {
   "cell_type": "code",
   "execution_count": 6,
   "id": "379c1cde",
   "metadata": {},
   "outputs": [
    {
     "name": "stdout",
     "output_type": "stream",
     "text": [
      "tuple_to_set  {10, 20} <class 'set'>\n",
      "list_to_set  {10, 20} <class 'set'>\n"
     ]
    }
   ],
   "source": [
    "tuple_to_set = set((10,20,10))\n",
    "print('tuple_to_set ', tuple_to_set, type(tuple_to_set))\n",
    "\n",
    "list_to_set = set([10, 20, 10])\n",
    "print('list_to_set ', list_to_set, type(list_to_set))"
   ]
  },
  {
   "cell_type": "code",
   "execution_count": 7,
   "id": "e481c88d",
   "metadata": {},
   "outputs": [
    {
     "ename": "ValueError",
     "evalue": "invalid literal for int() with base 10: '4.5'",
     "output_type": "error",
     "traceback": [
      "\u001b[1;31m---------------------------------------------------------------------------\u001b[0m",
      "\u001b[1;31mValueError\u001b[0m                                Traceback (most recent call last)",
      "Input \u001b[1;32mIn [7]\u001b[0m, in \u001b[0;36m<cell line: 2>\u001b[1;34m()\u001b[0m\n\u001b[0;32m      1\u001b[0m \u001b[38;5;66;03m# Value Error\u001b[39;00m\n\u001b[1;32m----> 2\u001b[0m \u001b[38;5;28;43mint\u001b[39;49m\u001b[43m(\u001b[49m\u001b[38;5;124;43m\"\u001b[39;49m\u001b[38;5;124;43m4.5\u001b[39;49m\u001b[38;5;124;43m\"\u001b[39;49m\u001b[43m)\u001b[49m\n",
      "\u001b[1;31mValueError\u001b[0m: invalid literal for int() with base 10: '4.5'"
     ]
    }
   ],
   "source": [
    "# Value Error\n",
    "int(\"4.5\")"
   ]
  },
  {
   "cell_type": "code",
   "execution_count": 8,
   "id": "ebf94463",
   "metadata": {},
   "outputs": [
    {
     "ename": "TypeError",
     "evalue": "unhashable type: 'list'",
     "output_type": "error",
     "traceback": [
      "\u001b[1;31m---------------------------------------------------------------------------\u001b[0m",
      "\u001b[1;31mTypeError\u001b[0m                                 Traceback (most recent call last)",
      "Input \u001b[1;32mIn [8]\u001b[0m, in \u001b[0;36m<cell line: 3>\u001b[1;34m()\u001b[0m\n\u001b[0;32m      1\u001b[0m \u001b[38;5;66;03m# Type Error\u001b[39;00m\n\u001b[0;32m      2\u001b[0m list_ \u001b[38;5;241m=\u001b[39m [\u001b[38;5;241m10\u001b[39m, [\u001b[38;5;241m10\u001b[39m, \u001b[38;5;241m10\u001b[39m]]\n\u001b[1;32m----> 3\u001b[0m list_to_set \u001b[38;5;241m=\u001b[39m \u001b[38;5;28;43mset\u001b[39;49m\u001b[43m(\u001b[49m\u001b[43mlist_\u001b[49m\u001b[43m)\u001b[49m\n",
      "\u001b[1;31mTypeError\u001b[0m: unhashable type: 'list'"
     ]
    }
   ],
   "source": [
    "# Type Error\n",
    "list_ = [10, [10, 10]]\n",
    "list_to_set = set(list_)"
   ]
  },
  {
   "cell_type": "markdown",
   "id": "6d733cb9",
   "metadata": {},
   "source": [
    "*:)*"
   ]
  }
 ],
 "metadata": {
  "kernelspec": {
   "display_name": "Python 3 (ipykernel)",
   "language": "python",
   "name": "python3"
  },
  "language_info": {
   "codemirror_mode": {
    "name": "ipython",
    "version": 3
   },
   "file_extension": ".py",
   "mimetype": "text/x-python",
   "name": "python",
   "nbconvert_exporter": "python",
   "pygments_lexer": "ipython3",
   "version": "3.10.4"
  }
 },
 "nbformat": 4,
 "nbformat_minor": 5
}
