{
 "cells": [
  {
   "cell_type": "markdown",
   "id": "fc751789",
   "metadata": {},
   "source": [
    "## Standard Data Types\n",
    "    1. numeric types:\n",
    "        1. int\n",
    "        2. float\n",
    "        3. complex\n",
    "        4. bool\n",
    "    2. sequence types:\n",
    "        1. str\n",
    "        2. list\n",
    "        3. tuple:\n",
    "        4. set:\n",
    "            1. how to create one\n",
    "            2. basic operations\n",
    "            3. indexing?!\n",
    "            4. add\n",
    "            5. remove"
   ]
  },
  {
   "cell_type": "markdown",
   "id": "915537f1",
   "metadata": {},
   "source": [
    "### Sets"
   ]
  },
  {
   "cell_type": "code",
   "execution_count": 11,
   "id": "87455963",
   "metadata": {},
   "outputs": [
    {
     "name": "stdout",
     "output_type": "stream",
     "text": [
      "{5, 45, 'Pooya', 15}\n",
      "False\n",
      "{5, 'Ali', 'Pooya', 45, 15}\n",
      "{5, 'Ali', 'Pooya', 15}\n",
      "False\n",
      "False\n",
      "{45}\n",
      "{'Pooya', 5, 15}\n",
      "4\n"
     ]
    }
   ],
   "source": [
    "# how to create a set\n",
    "set_ = {'Pooya', 45, 5, 5, 5, 5, 15}\n",
    "tiny_set = {'Ali', 45}\n",
    "\n",
    "print(set_)                    # Prints complete set\n",
    "# basic operations\n",
    "print('Ali' in set_)           # Prints first element of the set\n",
    "print(set_ | tiny_set)         # All the items in both\n",
    "print(set_ ^ tiny_set)         # All the items in either of them but not in both\n",
    "print(set_ > tiny_set)         # Prints True if the first set contains all the items in the second one\n",
    "print(set_ < tiny_set)         # Prints True if second set contains all items in the first one\n",
    "print(set_ & tiny_set)         # Every item which exists in both of the input sets\n",
    "print(set_ - tiny_set)         # Every item in the former but not the latter.\n",
    "print(len(set_))               # Prints variable set_'s length"
   ]
  },
  {
   "cell_type": "markdown",
   "id": "40f77df1",
   "metadata": {},
   "source": [
    "#### items in sets are immutable/hashable"
   ]
  },
  {
   "cell_type": "code",
   "execution_count": 19,
   "id": "2495c295",
   "metadata": {},
   "outputs": [
    {
     "ename": "TypeError",
     "evalue": "unhashable type: 'list'",
     "output_type": "error",
     "traceback": [
      "\u001b[1;31m---------------------------------------------------------------------------\u001b[0m",
      "\u001b[1;31mTypeError\u001b[0m                                 Traceback (most recent call last)",
      "Input \u001b[1;32mIn [19]\u001b[0m, in \u001b[0;36m<cell line: 1>\u001b[1;34m()\u001b[0m\n\u001b[1;32m----> 1\u001b[0m \u001b[38;5;28;43mset\u001b[39;49m\u001b[43m(\u001b[49m\u001b[43m[\u001b[49m\u001b[43m[\u001b[49m\u001b[38;5;241;43m10\u001b[39;49m\u001b[43m]\u001b[49m\u001b[43m,\u001b[49m\u001b[43m \u001b[49m\u001b[38;5;241;43m10\u001b[39;49m\u001b[43m]\u001b[49m\u001b[43m)\u001b[49m\n",
      "\u001b[1;31mTypeError\u001b[0m: unhashable type: 'list'"
     ]
    }
   ],
   "source": [
    "set([[10], 10])"
   ]
  },
  {
   "cell_type": "markdown",
   "id": "582cba12",
   "metadata": {},
   "source": [
    "#### Sets: indexing is not available for sets"
   ]
  },
  {
   "cell_type": "code",
   "execution_count": 12,
   "id": "e8a058c6",
   "metadata": {},
   "outputs": [
    {
     "ename": "TypeError",
     "evalue": "'set' object is not subscriptable",
     "output_type": "error",
     "traceback": [
      "\u001b[1;31m---------------------------------------------------------------------------\u001b[0m",
      "\u001b[1;31mTypeError\u001b[0m                                 Traceback (most recent call last)",
      "Input \u001b[1;32mIn [12]\u001b[0m, in \u001b[0;36m<cell line: 1>\u001b[1;34m()\u001b[0m\n\u001b[1;32m----> 1\u001b[0m \u001b[43mset_\u001b[49m\u001b[43m[\u001b[49m\u001b[38;5;241;43m0\u001b[39;49m\u001b[43m]\u001b[49m\n",
      "\u001b[1;31mTypeError\u001b[0m: 'set' object is not subscriptable"
     ]
    }
   ],
   "source": [
    "set_[0]"
   ]
  },
  {
   "cell_type": "markdown",
   "id": "a91a0b2b",
   "metadata": {},
   "source": [
    "#### Set: operations"
   ]
  },
  {
   "cell_type": "code",
   "execution_count": 13,
   "id": "9e594834",
   "metadata": {
    "scrolled": false
   },
   "outputs": [
    {
     "name": "stdout",
     "output_type": "stream",
     "text": [
      "{5, 45, 'Pooya', 'pooya', 15}\n"
     ]
    }
   ],
   "source": [
    "# add a new item\n",
    "set_.add('pooya')\n",
    "print(set_)"
   ]
  },
  {
   "cell_type": "code",
   "execution_count": 15,
   "id": "e08bee8e",
   "metadata": {},
   "outputs": [
    {
     "name": "stdout",
     "output_type": "stream",
     "text": [
      "{45, 'Pooya', 'pooya', 15}\n"
     ]
    }
   ],
   "source": [
    "# remove an item\n",
    "set_.remove(5)\n",
    "print(set_)"
   ]
  },
  {
   "cell_type": "markdown",
   "id": "e0ffa795",
   "metadata": {},
   "source": [
    "*_:)_*"
   ]
  }
 ],
 "metadata": {
  "kernelspec": {
   "display_name": "Python 3 (ipykernel)",
   "language": "python",
   "name": "python3"
  },
  "language_info": {
   "codemirror_mode": {
    "name": "ipython",
    "version": 3
   },
   "file_extension": ".py",
   "mimetype": "text/x-python",
   "name": "python",
   "nbconvert_exporter": "python",
   "pygments_lexer": "ipython3",
   "version": "3.10.4"
  }
 },
 "nbformat": 4,
 "nbformat_minor": 5
}
