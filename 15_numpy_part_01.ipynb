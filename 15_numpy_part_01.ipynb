{
 "cells": [
  {
   "cell_type": "markdown",
   "metadata": {},
   "source": [
    "# Numpy\n",
    "    1. How to install numpy:\n",
    "        1. [cmd/terminal] pip install numpy\n",
    "        2. [notebook] !pip install numpy\n",
    "    2. Why arrays? \n",
    "    3. Array, Data types, Shapes\n",
    "    4. numpy functions\n",
    "        1. np.zeros\n",
    "        2. np.empty\n",
    "        3. linespace\n",
    "        4. random\n",
    "    5. Array dimension\n",
    "    6. Indexing & Slicing & Axis\n",
    "    7. Stacking\n",
    "    8. Numpy arrays are mutable"
   ]
  },
  {
   "cell_type": "markdown",
   "metadata": {},
   "source": [
    "## How to install numpy"
   ]
  },
  {
   "cell_type": "code",
   "execution_count": null,
   "metadata": {},
   "outputs": [],
   "source": [
    "# not recommended\n",
    "!pip install numpy"
   ]
  },
  {
   "cell_type": "markdown",
   "metadata": {},
   "source": [
    "### Why arrays?\n",
    "Because they are extremely fast :)"
   ]
  },
  {
   "cell_type": "code",
   "execution_count": null,
   "metadata": {},
   "outputs": [],
   "source": [
    "import numpy as np\n",
    "one_d_array = np.linspace(0, 100, 10_000_000)\n",
    "print(f\"one_d_array: {one_d_array[:5]}\")\n",
    "print(f\"one_d_array: {one_d_array.size}\")"
   ]
  },
  {
   "cell_type": "code",
   "execution_count": null,
   "metadata": {},
   "outputs": [],
   "source": [
    "import math\n",
    "def get_lst(x):\n",
    "    lst = []\n",
    "    for i in x:\n",
    "        lst.append(math.sin(i))\n",
    "    return lst"
   ]
  },
  {
   "cell_type": "markdown",
   "metadata": {},
   "source": [
    "### Let's check how we can do the same task using lists, for, and numpy arrays"
   ]
  },
  {
   "cell_type": "code",
   "execution_count": null,
   "metadata": {
    "scrolled": true
   },
   "outputs": [],
   "source": [
    "# lists\n",
    "%timeit get_lst(one_d_array)"
   ]
  },
  {
   "cell_type": "code",
   "execution_count": null,
   "metadata": {
    "scrolled": true
   },
   "outputs": [],
   "source": [
    "# numpy\n",
    "%timeit np.sin(one_d_array)"
   ]
  },
  {
   "cell_type": "code",
   "execution_count": null,
   "metadata": {},
   "outputs": [],
   "source": [
    "ratio = (2.48 * 1000) / 84.3\n",
    "print(f\"ratio: {ratio}\")"
   ]
  },
  {
   "cell_type": "code",
   "execution_count": null,
   "metadata": {},
   "outputs": [],
   "source": [
    "# import numpy (convention)\n",
    "import numpy as np"
   ]
  },
  {
   "cell_type": "markdown",
   "metadata": {},
   "source": [
    "## Arrays, Data types, Shapes\n",
    "Arrays in numpy are ndarray or simply n-dimensional arrays.\n",
    "Arrays are fixed-sized in memory containing data of the same type, such as integers or floating point values."
   ]
  },
  {
   "cell_type": "code",
   "execution_count": null,
   "metadata": {},
   "outputs": [],
   "source": [
    "# a simple way to create an array\n",
    "array = np.array((1, 2, 3, 4, 5))\n",
    "print(f\"array: {array}, with {array.dtype} data type, and {array.shape} shape\")"
   ]
  },
  {
   "cell_type": "code",
   "execution_count": null,
   "metadata": {},
   "outputs": [],
   "source": [
    "# set dtype explicity\n",
    "array = np.array([1, 2, 3.5, 4, 5], dtype=np.float64)\n",
    "print(f\"array: {array}, with {array.dtype} data type, and {array.shape} shape\")"
   ]
  },
  {
   "cell_type": "code",
   "execution_count": null,
   "metadata": {},
   "outputs": [],
   "source": [
    "# Basic Operators on Numpy arrays\n",
    "array = np.array([1, 2, 3.5, 4, 5], dtype=np.float32)\n",
    "print(f\"ndim: {array.ndim}, shape: {array.shape}, size: {array.size} , dtype: {array.dtype}, sum: {array.sum()}, mean: {array.mean():.3f}, std: {array.std():.2f}\")"
   ]
  },
  {
   "cell_type": "code",
   "execution_count": null,
   "metadata": {},
   "outputs": [],
   "source": [
    "# change an array's dtype\n",
    "array = np.array([1, 2, 3.9, 4, 5], dtype=np.float64)\n",
    "print(f\"before dtype: {array.dtype}\")\n",
    "array = array.astype(np.int32)\n",
    "print(f\"after dtype: {array.dtype}\")\n",
    "print(f\"array: {array}\")"
   ]
  },
  {
   "cell_type": "code",
   "execution_count": null,
   "metadata": {},
   "outputs": [],
   "source": [
    "# nd-arrays\n",
    "lst = [[1, 2, 3, 4, 5], [6, 7, 8, 9, 10]]\n",
    "nd_array = np.array(lst, dtype=np.float64)\n",
    "print(f\"ndim: {nd_array.ndim}, shape: {nd_array.shape}, size: {nd_array.size} , dtype: {nd_array.dtype}, sum: {nd_array.sum()}\")"
   ]
  },
  {
   "cell_type": "code",
   "execution_count": null,
   "metadata": {},
   "outputs": [],
   "source": [
    "# transpose\n",
    "nd_array = np.array([[1, 2, 3, 4, 5], [6, 7, 8, 9, 10]], dtype=np.float64)\n",
    "transposed_nd_array = nd_array.T\n",
    "print(f\"nd_array:\\n{nd_array},\\nshape: {nd_array.shape}\")\n",
    "print(f\"transposed_nd_array:\\n{transposed_nd_array},\\nshape: {transposed_nd_array.shape}\")"
   ]
  },
  {
   "cell_type": "code",
   "execution_count": null,
   "metadata": {},
   "outputs": [],
   "source": [
    "# np.transpose\n",
    "ones = np.ones((1, 2, 8))\n",
    "print(f\"ones:\\n{ones}\")\n",
    "np.transpose(ones, (1, 0, 2)).shape"
   ]
  },
  {
   "cell_type": "code",
   "execution_count": null,
   "metadata": {},
   "outputs": [],
   "source": [
    "# lets reshape an array\n",
    "nd_array = np.array([[1, 2, 3, 4, 5], [6, 7, 8, 9, 10]], dtype=np.float64)\n",
    "print(\"nd_array shape:\", nd_array.shape)\n",
    "reshaped_array = nd_array.reshape((5, 2))\n",
    "print(\"reshaped_array:\", reshaped_array)\n",
    "print(\"reshaped_array shape:\", reshaped_array.shape)"
   ]
  },
  {
   "cell_type": "code",
   "execution_count": null,
   "metadata": {},
   "outputs": [],
   "source": [
    "# lets reshape an array\n",
    "nd_array = np.array([[1, 2, 3, 4, 5], [6, 7, 8, 9, 10]], dtype=np.float64)\n",
    "print(\"nd_array shape:\", nd_array.shape)\n",
    "reshaped_array = nd_array.reshape((10, -1))\n",
    "print(\"reshaped_array:\", reshaped_array)\n",
    "print(\"reshaped_array shape:\", reshaped_array.shape)"
   ]
  },
  {
   "cell_type": "markdown",
   "metadata": {},
   "source": [
    "## Numpy Functions"
   ]
  },
  {
   "cell_type": "code",
   "execution_count": null,
   "metadata": {},
   "outputs": [],
   "source": [
    "# creates an nd-array containing zeros\n",
    "zeros_array = np.zeros(shape=(3, 6))\n",
    "print(zeros_array)\n",
    "print(f\"ndim: {zeros_array.ndim}, shape: {zeros_array.shape}, size: {zeros_array.size} , dtype: {zeros_array.dtype}, sum: {zeros_array.sum()}\")"
   ]
  },
  {
   "cell_type": "code",
   "execution_count": null,
   "metadata": {},
   "outputs": [],
   "source": [
    "# creates an empty nd-array, numbers are almost zero\n",
    "empty_array = np.empty((4, 4))\n",
    "print(empty_array)\n",
    "print(f\"ndim: {empty_array.ndim}, shape: {empty_array.shape}, size: {empty_array.size} , dtype: {empty_array.dtype}, sum: {empty_array.sum()}\")"
   ]
  },
  {
   "cell_type": "code",
   "execution_count": null,
   "metadata": {},
   "outputs": [],
   "source": [
    "# Returns evenly spaced numbers over a specified interval.\n",
    "interval = np.linspace(0, 10, 5)\n",
    "print(f\"interval: {interval}\")"
   ]
  },
  {
   "cell_type": "code",
   "execution_count": null,
   "metadata": {},
   "outputs": [],
   "source": [
    "# Creates an array of ones\n",
    "ones_array = np.ones((3, 4))\n",
    "print(\"ones_array:\\n\", ones_array)"
   ]
  },
  {
   "cell_type": "markdown",
   "metadata": {},
   "source": [
    "### np.random"
   ]
  },
  {
   "cell_type": "code",
   "execution_count": null,
   "metadata": {},
   "outputs": [],
   "source": [
    "# random function, uniform-distribution beween 0-1.0\n",
    "np.random.random((2, 5))"
   ]
  },
  {
   "cell_type": "code",
   "execution_count": 23,
   "metadata": {
    "scrolled": true
   },
   "outputs": [
    {
     "data": {
      "text/plain": [
       "array([[ 1.31815155, -0.46930528,  0.67555409, -1.81702723],\n",
       "       [-0.18310854,  1.05896919, -0.39784023,  0.33743765]])"
      ]
     },
     "execution_count": 23,
     "metadata": {},
     "output_type": "execute_result"
    }
   ],
   "source": [
    "# random function, standard_normal mean=0, std=1\n",
    "np.random.standard_normal((2, 4))"
   ]
  },
  {
   "cell_type": "code",
   "execution_count": null,
   "metadata": {},
   "outputs": [],
   "source": [
    "# normal distribution\n",
    "np.random.normal(loc=20, scale=1, size=(2, 3))"
   ]
  },
  {
   "cell_type": "code",
   "execution_count": 35,
   "metadata": {},
   "outputs": [
    {
     "name": "stdout",
     "output_type": "stream",
     "text": [
      "first:\n",
      " [[ 0.47143516 -1.19097569  1.43270697 -0.3126519 ]\n",
      " [-0.72058873  0.88716294  0.85958841 -0.6365235 ]]\n",
      "second:\n",
      " [[ 1.56963721e-02 -2.24268495e+00  1.15003572e+00  9.91946022e-01]\n",
      " [ 9.53324128e-01 -2.02125482e+00 -3.34077366e-01  2.11836468e-03]]\n"
     ]
    }
   ],
   "source": [
    "# seed\n",
    "np.random.seed(seed=1234)\n",
    "print(\"first:\\n\", np.random.standard_normal((2, 4)))\n",
    "print(\"second:\\n\", np.random.standard_normal((2, 4)))"
   ]
  },
  {
   "cell_type": "code",
   "execution_count": 36,
   "metadata": {},
   "outputs": [
    {
     "name": "stdout",
     "output_type": "stream",
     "text": [
      "first:\n",
      " [[ 0.47143516 -1.19097569  1.43270697 -0.3126519 ]\n",
      " [-0.72058873  0.88716294  0.85958841 -0.6365235 ]]\n",
      "second:\n",
      " [[ 1.56963721e-02 -2.24268495e+00  1.15003572e+00  9.91946022e-01]\n",
      " [ 9.53324128e-01 -2.02125482e+00 -3.34077366e-01  2.11836468e-03]]\n"
     ]
    }
   ],
   "source": [
    "# seed\n",
    "np.random.seed(seed=1234)\n",
    "print(\"first:\\n\", np.random.standard_normal((2, 4)))\n",
    "print(\"second:\\n\", np.random.standard_normal((2, 4)))"
   ]
  },
  {
   "cell_type": "markdown",
   "metadata": {},
   "source": [
    "### dummy array"
   ]
  },
  {
   "cell_type": "code",
   "execution_count": null,
   "metadata": {},
   "outputs": [],
   "source": [
    "dummy_array = np.array([1, 2, 3, 4])\n",
    "print(f\"dummy_array:\\n{dummy_array},\\nshape: {dummy_array.shape}\")\n",
    "# why it's called dummy?\n",
    "transposed_dummy_array = dummy_array.T\n",
    "print(f\"transposed_dummy_array:\\n{transposed_dummy_array},\\nshape: {transposed_dummy_array.shape}\")\n",
    "print(f\"both arrays are the same: {np.all(transposed_dummy_array == dummy_array)}\")"
   ]
  },
  {
   "cell_type": "markdown",
   "metadata": {},
   "source": [
    "### Indexing & Slicing & Axis "
   ]
  },
  {
   "cell_type": "code",
   "execution_count": null,
   "metadata": {},
   "outputs": [],
   "source": [
    "array = np.random.random((4, 5))\n",
    "array"
   ]
  },
  {
   "cell_type": "code",
   "execution_count": null,
   "metadata": {},
   "outputs": [],
   "source": [
    "# Accessing a value\n",
    "array[1, 2]\n",
    "# list -> lst[1][2]"
   ]
  },
  {
   "cell_type": "code",
   "execution_count": null,
   "metadata": {},
   "outputs": [],
   "source": [
    "# Accessing a row\n",
    "array[2, :]"
   ]
  },
  {
   "cell_type": "code",
   "execution_count": null,
   "metadata": {},
   "outputs": [],
   "source": [
    "# Accessing a column\n",
    "array[:, 3]"
   ]
  },
  {
   "cell_type": "code",
   "execution_count": null,
   "metadata": {},
   "outputs": [],
   "source": [
    "# nd-dimensional, this array is like an image (RGB)\n",
    "array = np.random.random((4, 5, 3))\n",
    "array"
   ]
  },
  {
   "cell_type": "code",
   "execution_count": null,
   "metadata": {},
   "outputs": [],
   "source": [
    "# get the last dimension\n",
    "array[:, :, 0] # getting first channel(R)"
   ]
  },
  {
   "cell_type": "markdown",
   "metadata": {},
   "source": [
    "### Slicing"
   ]
  },
  {
   "cell_type": "code",
   "execution_count": null,
   "metadata": {},
   "outputs": [],
   "source": [
    "array = np.random.random((4, 5, 3))\n",
    "sliced_array = array[:, ::2, :]\n",
    "print(sliced_array)\n",
    "print(sliced_array.shape)"
   ]
  },
  {
   "cell_type": "code",
   "execution_count": null,
   "metadata": {},
   "outputs": [],
   "source": [
    "# negative and ...\n",
    "# ... means take rest as they are\n",
    "array = np.random.random((4, 5, 3))\n",
    "sliced_array = array[1:-1, ...]\n",
    "# sliced_array = array[1:-1, :, :]\n",
    "print(sliced_array)\n",
    "print(sliced_array.shape)"
   ]
  },
  {
   "cell_type": "code",
   "execution_count": null,
   "metadata": {},
   "outputs": [],
   "source": [
    "# dummy row\n",
    "dummy_row = array[1, :]\n",
    "print(f\"dummy_row, {dummy_row.shape}:\\n{dummy_row}\")"
   ]
  },
  {
   "cell_type": "code",
   "execution_count": null,
   "metadata": {},
   "outputs": [],
   "source": [
    "# Getting a row, but not in as a dummy array\n",
    "not_dummy_row = array[1:2, :]\n",
    "print(not_dummy_row)\n",
    "print(not_dummy_row.shape)"
   ]
  },
  {
   "cell_type": "markdown",
   "metadata": {},
   "source": [
    "### Axis\n",
    "sum can be replaced with any numpy function that operates on a bunch of numbers like, mean, std, and so on."
   ]
  },
  {
   "cell_type": "code",
   "execution_count": null,
   "metadata": {},
   "outputs": [],
   "source": [
    "array = np.random.random((4, 5))\n",
    "print(array)\n",
    "print(f\"sum column-wise/horrizontally:\\n\", array.sum(axis=1))"
   ]
  },
  {
   "cell_type": "code",
   "execution_count": null,
   "metadata": {},
   "outputs": [],
   "source": [
    "print(f\"sum row-wise/vertically:\\n\", array.sum(axis=0))"
   ]
  },
  {
   "cell_type": "code",
   "execution_count": null,
   "metadata": {},
   "outputs": [],
   "source": [
    "# nd-dimensional, this array is like an image (RGB)\n",
    "array = np.random.random((4, 5, 3))\n",
    "print(array)\n",
    "print(f\"array shape:\", array.shape)\n",
    "channel_wised_mean = array.mean(axis=2)\n",
    "print(f\"sum channel-wise:\\n\", channel_wised_mean)\n",
    "print(f\"channel-wise shape:\", channel_wised_mean.shape)"
   ]
  },
  {
   "cell_type": "code",
   "execution_count": 5,
   "metadata": {},
   "outputs": [
    {
     "name": "stdout",
     "output_type": "stream",
     "text": [
      "dummy_array:\n",
      "[1.91798929 2.4959994  2.53252953 3.03267557],\n",
      "shape: (4,)\n",
      "two_d_array:\n",
      "[[1.91798929]\n",
      " [2.4959994 ]\n",
      " [2.53252953]\n",
      " [3.03267557]],\n",
      "shape: (4, 1)\n"
     ]
    }
   ],
   "source": [
    "# keepdims\n",
    "import numpy as np\n",
    "array = np.random.random((4, 5))\n",
    "dummy_array = array.sum(axis=1)\n",
    "print(f\"dummy_array:\\n{dummy_array},\\nshape: {dummy_array.shape}\")\n",
    "two_d_array = array.sum(axis=1, keepdims=True)\n",
    "print(f\"two_d_array:\\n{two_d_array},\\nshape: {two_d_array.shape}\")"
   ]
  },
  {
   "cell_type": "code",
   "execution_count": 10,
   "metadata": {},
   "outputs": [
    {
     "name": "stdout",
     "output_type": "stream",
     "text": [
      "array: (256, 256, 3)\n",
      "expanded_array: (1, 256, 256, 3)\n",
      "expanded_array: (1, 256, 256, 3)\n"
     ]
    }
   ],
   "source": [
    "# expand_dims\n",
    "array = np.random.random((256, 256, 3))\n",
    "print(f\"array: {array.shape}\")\n",
    "\n",
    "# expand_dims\n",
    "expanded_array = np.expand_dims(array, axis=0)\n",
    "print(f\"expanded_array: {expanded_array.shape}\")\n",
    "\n",
    "# expand_dims\n",
    "expanded_array = array.reshape(1, *array.shape)\n",
    "# expanded_array = array.reshape(1, 256, 256, 3)\n",
    "print(f\"expanded_array: {expanded_array.shape}\")\n"
   ]
  },
  {
   "cell_type": "code",
   "execution_count": 9,
   "metadata": {},
   "outputs": [
    {
     "name": "stdout",
     "output_type": "stream",
     "text": [
      "squeezed_array: (256, 256, 3)\n"
     ]
    }
   ],
   "source": [
    "# squeeze_dim\n",
    "squeezed_array = np.squeeze(expanded_array, axis=0) \n",
    "print(f\"squeezed_array: {squeezed_array.shape}\")"
   ]
  },
  {
   "cell_type": "code",
   "execution_count": 11,
   "metadata": {},
   "outputs": [
    {
     "name": "stdout",
     "output_type": "stream",
     "text": [
      "array: (256, 256, 3)\n"
     ]
    },
    {
     "ename": "ValueError",
     "evalue": "cannot select an axis to squeeze out which has size not equal to one",
     "output_type": "error",
     "traceback": [
      "\u001b[1;31m---------------------------------------------------------------------------\u001b[0m",
      "\u001b[1;31mValueError\u001b[0m                                Traceback (most recent call last)",
      "Input \u001b[1;32mIn [11]\u001b[0m, in \u001b[0;36m<cell line: 3>\u001b[1;34m()\u001b[0m\n\u001b[0;32m      1\u001b[0m \u001b[38;5;66;03m# squeeze does not work on dimensions whose size are not equal to one\u001b[39;00m\n\u001b[0;32m      2\u001b[0m \u001b[38;5;28mprint\u001b[39m(\u001b[38;5;124mf\u001b[39m\u001b[38;5;124m\"\u001b[39m\u001b[38;5;124marray: \u001b[39m\u001b[38;5;132;01m{\u001b[39;00marray\u001b[38;5;241m.\u001b[39mshape\u001b[38;5;132;01m}\u001b[39;00m\u001b[38;5;124m\"\u001b[39m)\n\u001b[1;32m----> 3\u001b[0m squeezed_array_2 \u001b[38;5;241m=\u001b[39m \u001b[43mnp\u001b[49m\u001b[38;5;241;43m.\u001b[39;49m\u001b[43msqueeze\u001b[49m\u001b[43m(\u001b[49m\u001b[43marray\u001b[49m\u001b[43m,\u001b[49m\u001b[43m \u001b[49m\u001b[43maxis\u001b[49m\u001b[38;5;241;43m=\u001b[39;49m\u001b[38;5;241;43m2\u001b[39;49m\u001b[43m)\u001b[49m\n\u001b[0;32m      4\u001b[0m \u001b[38;5;28mprint\u001b[39m(\u001b[38;5;124mf\u001b[39m\u001b[38;5;124m\"\u001b[39m\u001b[38;5;124msqueezed_array_2: \u001b[39m\u001b[38;5;132;01m{\u001b[39;00msqueezed_array_2\u001b[38;5;241m.\u001b[39mshape\u001b[38;5;132;01m}\u001b[39;00m\u001b[38;5;124m\"\u001b[39m)\n",
      "File \u001b[1;32m<__array_function__ internals>:180\u001b[0m, in \u001b[0;36msqueeze\u001b[1;34m(*args, **kwargs)\u001b[0m\n",
      "File \u001b[1;32m~\\miniconda3\\envs\\intro_py\\lib\\site-packages\\numpy\\core\\fromnumeric.py:1545\u001b[0m, in \u001b[0;36msqueeze\u001b[1;34m(a, axis)\u001b[0m\n\u001b[0;32m   1543\u001b[0m     \u001b[38;5;28;01mreturn\u001b[39;00m squeeze()\n\u001b[0;32m   1544\u001b[0m \u001b[38;5;28;01melse\u001b[39;00m:\n\u001b[1;32m-> 1545\u001b[0m     \u001b[38;5;28;01mreturn\u001b[39;00m \u001b[43msqueeze\u001b[49m\u001b[43m(\u001b[49m\u001b[43maxis\u001b[49m\u001b[38;5;241;43m=\u001b[39;49m\u001b[43maxis\u001b[49m\u001b[43m)\u001b[49m\n",
      "\u001b[1;31mValueError\u001b[0m: cannot select an axis to squeeze out which has size not equal to one"
     ]
    }
   ],
   "source": [
    "# squeeze does not work on dimensions whose size are not equal to one\n",
    "print(f\"array: {array.shape}\")\n",
    "squeezed_array_2 = np.squeeze(array, axis=2)\n",
    "print(f\"squeezed_array_2: {squeezed_array_2.shape}\")"
   ]
  },
  {
   "cell_type": "markdown",
   "metadata": {},
   "source": [
    "### Stacking\n",
    "How to combine more two or more arrays"
   ]
  },
  {
   "cell_type": "code",
   "execution_count": null,
   "metadata": {},
   "outputs": [],
   "source": [
    "array_1 = np.random.random((2, 3))\n",
    "array_2 = np.random.random((4, 3))\n",
    "array_3 = np.random.random((1, 3))"
   ]
  },
  {
   "cell_type": "code",
   "execution_count": null,
   "metadata": {},
   "outputs": [],
   "source": [
    "# Stack arrays in sequence vertically (row wise).\n",
    "vstack = np.vstack([array_1, array_2, array_3])\n",
    "print(vstack)\n",
    "print(f\"vstack shape:\", vstack.shape)"
   ]
  },
  {
   "cell_type": "code",
   "execution_count": null,
   "metadata": {},
   "outputs": [],
   "source": [
    "array_1 = np.random.random((4, 5))\n",
    "array_2 = np.random.random((4, 3))"
   ]
  },
  {
   "cell_type": "code",
   "execution_count": null,
   "metadata": {},
   "outputs": [],
   "source": [
    "# Stack arrays in sequence horizontally (column wise)\n",
    "hstack = np.hstack([array_1, array_2])\n",
    "print(hstack)\n",
    "print(f\"hstack shape:\", hstack.shape)"
   ]
  },
  {
   "cell_type": "code",
   "execution_count": null,
   "metadata": {},
   "outputs": [],
   "source": [
    "array_1 = np.random.random((4, 5))\n",
    "array_2 = np.random.random((4, 5))"
   ]
  },
  {
   "cell_type": "code",
   "execution_count": null,
   "metadata": {},
   "outputs": [],
   "source": [
    "# Join a sequence of arrays along a new axis\n",
    "stack = np.stack([array_1, array_2], axis=0)\n",
    "print(stack)\n",
    "print(f\"stack shape:\", stack.shape)"
   ]
  },
  {
   "cell_type": "markdown",
   "metadata": {},
   "source": [
    "## Numpy arrays are mutable"
   ]
  },
  {
   "cell_type": "code",
   "execution_count": null,
   "metadata": {},
   "outputs": [],
   "source": [
    "array_1 = np.array([1, 2, 3])\n",
    "array_2 = array_1\n",
    "array_2[0] = 10\n",
    "print(f\"array_1:\\n{array_1}\")\n",
    "print(f\"array_2:\\n{array_2}\")"
   ]
  },
  {
   "cell_type": "code",
   "execution_count": null,
   "metadata": {},
   "outputs": [],
   "source": [
    "# how to prevent changes that occur due to mutability of numpy arrays\n",
    "array_1 = np.array([1, 2, 3])\n",
    "array_2 = array_1.copy()\n",
    "array_2[0] = 10\n",
    "print(f\"array_1:\\n{array_1}\")\n",
    "print(f\"array_2:\\n{array_2}\")"
   ]
  },
  {
   "cell_type": "markdown",
   "metadata": {},
   "source": [
    "*:)*"
   ]
  }
 ],
 "metadata": {
  "kernelspec": {
   "display_name": "Python 3 (ipykernel)",
   "language": "python",
   "name": "python3"
  },
  "language_info": {
   "codemirror_mode": {
    "name": "ipython",
    "version": 3
   },
   "file_extension": ".py",
   "mimetype": "text/x-python",
   "name": "python",
   "nbconvert_exporter": "python",
   "pygments_lexer": "ipython3",
   "version": "3.10.4"
  }
 },
 "nbformat": 4,
 "nbformat_minor": 1
}
