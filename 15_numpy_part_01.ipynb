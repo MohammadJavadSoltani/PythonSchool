{
 "cells": [
  {
   "cell_type": "markdown",
   "metadata": {},
   "source": [
    "# Numpy\n",
    "    1. Why arrays? \n",
    "    2. How to install numpy:\n",
    "        1. [cmd/terminal] pip install numpy\n",
    "        2. [notebook] !pip install numpy\n",
    "    3. How to import it(convention)\n",
    "    4. Array, Data types, Shapes\n",
    "    5. numpy functions\n",
    "        1. np.zeros\n",
    "        2. np.empty\n",
    "        3. linespace\n",
    "        4. random\n",
    "    6. Array dimension\n",
    "    7. Indexing & Slicing & Axis\n",
    "    8. Stacking\n",
    "    9. Numpy arrays are mutable"
   ]
  },
  {
   "cell_type": "markdown",
   "metadata": {},
   "source": [
    "### Why arrays?\n",
    "Because they are extremely fast :)"
   ]
  },
  {
   "cell_type": "code",
   "execution_count": null,
   "metadata": {},
   "outputs": [],
   "source": [
    "import numpy as np\n",
    "one_d_array = np.linspace(0, 100, 10_000_000)\n",
    "print(f\"one_d_array: {one_d_array.size}\")"
   ]
  },
  {
   "cell_type": "code",
   "execution_count": null,
   "metadata": {},
   "outputs": [],
   "source": [
    "import math\n",
    "def get_lst(x):\n",
    "    lst = []\n",
    "    for i in x:\n",
    "        lst.append(math.sin(i))\n",
    "    return lst"
   ]
  },
  {
   "cell_type": "markdown",
   "metadata": {},
   "source": [
    "### Let's check how we can do the same task using lists and numpy arrays"
   ]
  },
  {
   "cell_type": "code",
   "execution_count": null,
   "metadata": {
    "scrolled": true
   },
   "outputs": [],
   "source": [
    "# lists\n",
    "%timeit get_lst(one_d_array)"
   ]
  },
  {
   "cell_type": "code",
   "execution_count": null,
   "metadata": {
    "scrolled": true
   },
   "outputs": [],
   "source": [
    "# numpy\n",
    "%timeit np.sin(one_d_array)"
   ]
  },
  {
   "cell_type": "code",
   "execution_count": null,
   "metadata": {},
   "outputs": [],
   "source": [
    "ratio = 82.7 / 2.48\n",
    "print(f\"ratio: {ratio}\")"
   ]
  },
  {
   "cell_type": "code",
   "execution_count": null,
   "metadata": {},
   "outputs": [],
   "source": [
    "# import numpy\n",
    "import numpy as np"
   ]
  },
  {
   "cell_type": "markdown",
   "metadata": {},
   "source": [
    "## Arrays, Data types, Shapes\n",
    "Arrays in numpy are ndarray or simply n-dimensional arrays.\n",
    "Arrays are fixed-sized in memory containing data of the same type, such as integers or floating point values."
   ]
  },
  {
   "cell_type": "code",
   "execution_count": null,
   "metadata": {},
   "outputs": [],
   "source": [
    "# a simple way to create an array\n",
    "array = np.array((1, 2, 3, 4, 5))\n",
    "print(f\"array: {array}, with {array.dtype} data type, and {array.shape} shape\")"
   ]
  },
  {
   "cell_type": "code",
   "execution_count": null,
   "metadata": {},
   "outputs": [],
   "source": [
    "# set dtype explicity\n",
    "array = np.array([1, 2, 3.5, 4, 5], dtype=np.float64)\n",
    "print(f\"array: {array}, with {array.dtype} data type, and {array.shape} shape\")"
   ]
  },
  {
   "cell_type": "code",
   "execution_count": null,
   "metadata": {},
   "outputs": [],
   "source": [
    "# Basic Operators on Numpy arrays\n",
    "array = np.array([1, 2, 3.5, 4, 5], dtype=np.float64)\n",
    "print(f\"ndim: {array.ndim}, shape: {array.shape}, size: {array.size} , dtype: {array.dtype}, sum: {array.sum()}\")"
   ]
  },
  {
   "cell_type": "code",
   "execution_count": null,
   "metadata": {},
   "outputs": [],
   "source": [
    "# change an array's dtype\n",
    "array = np.array([1, 2, 3.5, 4, 5], dtype=np.float64)\n",
    "print(f\"before dtype: {array.dtype}\")\n",
    "array = array.astype(np.int32)\n",
    "print(f\"after dtype: {array.dtype}\")"
   ]
  },
  {
   "cell_type": "code",
   "execution_count": null,
   "metadata": {},
   "outputs": [],
   "source": [
    "# nd-arrays\n",
    "lst = [[1, 2, 3, 4, 5], [6, 7, 8, 9, 10]]\n",
    "nd_array = np.array(lst, dtype=np.float64)\n",
    "print(f\"ndim: {nd_array.ndim}, shape: {nd_array.shape}, size: {nd_array.size} , dtype: {nd_array.dtype}, sum: {nd_array.sum()}\")"
   ]
  },
  {
   "cell_type": "code",
   "execution_count": null,
   "metadata": {},
   "outputs": [],
   "source": [
    "# transpose\n",
    "nd_array = np.array([[1, 2, 3, 4, 5], [6, 7, 8, 9, 10]], dtype=np.float64)\n",
    "transposed_nd_array = nd_array.T\n",
    "print(f\"nd_array:\\n{nd_array},\\nshape: {nd_array.shape}\")\n",
    "print(f\"transposed_nd_array:\\n{transposed_nd_array},\\nshape: {transposed_nd_array.shape}\")"
   ]
  },
  {
   "cell_type": "code",
   "execution_count": null,
   "metadata": {},
   "outputs": [],
   "source": [
    "# lets reshape an array\n",
    "nd_array = np.array([[1, 2, 3, 4, 5], [6, 7, 8, 9, 10]], dtype=np.float64)\n",
    "print(\"nd_array shape:\", nd_array.shape)\n",
    "reshaped_array = nd_array.reshape((5, 2))\n",
    "print(\"reshaped_array:\", reshaped_array)\n",
    "print(\"reshaped_array shape:\", reshaped_array.shape)"
   ]
  },
  {
   "cell_type": "markdown",
   "metadata": {},
   "source": [
    "## Numpy Functions"
   ]
  },
  {
   "cell_type": "code",
   "execution_count": null,
   "metadata": {},
   "outputs": [],
   "source": [
    "# creates an nd-array containing zeros\n",
    "zeros_array = np.zeros(shape=(3, 6))\n",
    "print(zeros_array)\n",
    "print(f\"ndim: {zeros_array.ndim}, shape: {zeros_array.shape}, size: {zeros_array.size} , dtype: {zeros_array.dtype}, sum: {zeros_array.sum()}\")"
   ]
  },
  {
   "cell_type": "code",
   "execution_count": null,
   "metadata": {},
   "outputs": [],
   "source": [
    "# creates an empty nd-array, numbers are almost zero\n",
    "empty_array = np.empty((4,4))\n",
    "print(empty_array)\n",
    "print(f\"ndim: {empty_array.ndim}, shape: {empty_array.shape}, size: {empty_array.size} , dtype: {empty_array.dtype}, sum: {empty_array.sum()}\")"
   ]
  },
  {
   "cell_type": "code",
   "execution_count": null,
   "metadata": {},
   "outputs": [],
   "source": [
    "# Returns evenly spaced numbers over a specified interval.\n",
    "interval = np.linspace(0, 10, 5)\n",
    "print(f\"interval: {interval}\")"
   ]
  },
  {
   "cell_type": "code",
   "execution_count": null,
   "metadata": {},
   "outputs": [],
   "source": [
    "# Creates an array of ones\n",
    "ones_array = np.ones((3, 4))\n",
    "print(\"ones_array:\\n\", ones_array)"
   ]
  },
  {
   "cell_type": "markdown",
   "metadata": {},
   "source": [
    "### np.random"
   ]
  },
  {
   "cell_type": "code",
   "execution_count": null,
   "metadata": {},
   "outputs": [],
   "source": [
    "# random function, uniform-distribution beween 0-1.0\n",
    "np.random.random((2, 3))"
   ]
  },
  {
   "cell_type": "code",
   "execution_count": null,
   "metadata": {
    "scrolled": true
   },
   "outputs": [],
   "source": [
    "# random function, standard_normal mean = 0, std=1\n",
    "np.random.standard_normal((2, 3))"
   ]
  },
  {
   "cell_type": "code",
   "execution_count": null,
   "metadata": {},
   "outputs": [],
   "source": [
    "# normal distribution\n",
    "np.random.normal(loc=2, scale=1, size=(2, 3))"
   ]
  },
  {
   "cell_type": "markdown",
   "metadata": {},
   "source": [
    "### dummy array"
   ]
  },
  {
   "cell_type": "code",
   "execution_count": null,
   "metadata": {},
   "outputs": [],
   "source": [
    "dummy_array = np.array([1, 2, 3, 4])\n",
    "print(f\"dummy_array:\\n{dummy_array},\\nshape: {dummy_array.shape}\")\n",
    "# why it's called dummy?\n",
    "transposed_dummy_array = dummy_array.T\n",
    "print(f\"transposed_dummy_array:\\n{transposed_dummy_array},\\nshape: {transposed_dummy_array.shape}\")\n",
    "print(f\"both arrays are the same: {np.all(transposed_dummy_array == dummy_array)}\")"
   ]
  },
  {
   "cell_type": "markdown",
   "metadata": {},
   "source": [
    "### Indexing & Slicing & Axis "
   ]
  },
  {
   "cell_type": "code",
   "execution_count": null,
   "metadata": {},
   "outputs": [],
   "source": [
    "array = np.random.random((4, 5))\n",
    "array"
   ]
  },
  {
   "cell_type": "code",
   "execution_count": null,
   "metadata": {},
   "outputs": [],
   "source": [
    "# Accessing a value\n",
    "array[1, 2]"
   ]
  },
  {
   "cell_type": "code",
   "execution_count": null,
   "metadata": {},
   "outputs": [],
   "source": [
    "# Accessing a row\n",
    "array[2, :]"
   ]
  },
  {
   "cell_type": "code",
   "execution_count": null,
   "metadata": {},
   "outputs": [],
   "source": [
    "# Accessing a column\n",
    "array[:, 3]"
   ]
  },
  {
   "cell_type": "code",
   "execution_count": null,
   "metadata": {},
   "outputs": [],
   "source": [
    "# Getting a row, but not in as a dummy array\n",
    "not_dummy_row = array[1:2, :]\n",
    "print(not_dummy_row)\n",
    "print(not_dummy_row.shape)"
   ]
  },
  {
   "cell_type": "code",
   "execution_count": null,
   "metadata": {},
   "outputs": [],
   "source": [
    "# nd-dimensional, this array is like an image (RGB)\n",
    "array = np.random.random((4, 5, 3))\n",
    "array"
   ]
  },
  {
   "cell_type": "code",
   "execution_count": null,
   "metadata": {},
   "outputs": [],
   "source": [
    "# get the last dimension\n",
    "array[:, :, 0] # getting first channel(R)"
   ]
  },
  {
   "cell_type": "markdown",
   "metadata": {},
   "source": [
    "### Slicing"
   ]
  },
  {
   "cell_type": "code",
   "execution_count": null,
   "metadata": {},
   "outputs": [],
   "source": [
    "array = np.random.random((4, 5, 3))\n",
    "sliced_array = array[:, ::2, :]\n",
    "print(sliced_array)\n",
    "print(sliced_array.shape)"
   ]
  },
  {
   "cell_type": "code",
   "execution_count": null,
   "metadata": {},
   "outputs": [],
   "source": [
    "# negative and ...\n",
    "# ... means take rest as they are\n",
    "array = np.random.random((4, 5, 3))\n",
    "sliced_array = array[1:-1, ...]\n",
    "print(sliced_array)\n",
    "print(sliced_array.shape)"
   ]
  },
  {
   "cell_type": "markdown",
   "metadata": {},
   "source": [
    "### Axis\n",
    "sum can be replaced with any numpy function that operates on a bunch of numbers like, mean, std, and so on."
   ]
  },
  {
   "cell_type": "code",
   "execution_count": null,
   "metadata": {},
   "outputs": [],
   "source": [
    "array = np.random.random((4, 5))\n",
    "print(array)\n",
    "print(f\"sum column-wise/horrizontally:\\n\", array.sum(axis=1))"
   ]
  },
  {
   "cell_type": "code",
   "execution_count": null,
   "metadata": {},
   "outputs": [],
   "source": [
    "print(f\"sum row-wise/vertically:\\n\", array.sum(axis=0))"
   ]
  },
  {
   "cell_type": "code",
   "execution_count": null,
   "metadata": {},
   "outputs": [],
   "source": [
    "# nd-dimensional, this array is like an image (RGB)\n",
    "array = np.random.random((4, 5, 3))\n",
    "print(array)\n",
    "print(f\"array shape:\", array.shape)\n",
    "channel_wised_sum = array.sum(axis=2)\n",
    "print(f\"sum channel-wise:\\n\", channel_wised_sum)\n",
    "print(f\"channel-wise shape:\", channel_wised_sum.shape)"
   ]
  },
  {
   "cell_type": "markdown",
   "metadata": {},
   "source": [
    "### Stacking\n",
    "How to combine more two or more arrays"
   ]
  },
  {
   "cell_type": "code",
   "execution_count": null,
   "metadata": {},
   "outputs": [],
   "source": [
    "array_1 = np.random.random((2, 3))\n",
    "array_2 = np.random.random((4, 3))"
   ]
  },
  {
   "cell_type": "code",
   "execution_count": null,
   "metadata": {},
   "outputs": [],
   "source": [
    "# Stack arrays in sequence vertically (row wise).\n",
    "vstack = np.vstack([array_1, array_2])\n",
    "print(vstack)\n",
    "print(f\"vstack shape:\", vstack.shape)"
   ]
  },
  {
   "cell_type": "code",
   "execution_count": null,
   "metadata": {},
   "outputs": [],
   "source": [
    "array_1 = np.random.random((4, 5))\n",
    "array_2 = np.random.random((4, 3))"
   ]
  },
  {
   "cell_type": "code",
   "execution_count": null,
   "metadata": {},
   "outputs": [],
   "source": [
    "# Stack arrays in sequence horizontally (column wise)\n",
    "hstack = np.hstack([array_1, array_2])\n",
    "print(hstack)\n",
    "print(f\"hstack shape:\", hstack.shape)"
   ]
  },
  {
   "cell_type": "markdown",
   "metadata": {},
   "source": [
    "## Numpy arrays are mutable"
   ]
  },
  {
   "cell_type": "code",
   "execution_count": null,
   "metadata": {},
   "outputs": [],
   "source": [
    "array_1 = np.array([1, 2, 3])\n",
    "array_2 = array_1\n",
    "array_2[0] = 10\n",
    "print(array_1)\n",
    "print(array_2)"
   ]
  },
  {
   "cell_type": "code",
   "execution_count": null,
   "metadata": {},
   "outputs": [],
   "source": [
    "# how to prevent changes that occur due to mutability of numpy arrays\n",
    "array_1 = np.array([1, 2, 3])\n",
    "array_2 = array_1.copy()\n",
    "array_2[0] = 10\n",
    "print(array_1)\n",
    "print(array_2)"
   ]
  },
  {
   "cell_type": "markdown",
   "metadata": {},
   "source": [
    "*:)*"
   ]
  }
 ],
 "metadata": {
  "kernelspec": {
   "display_name": "Python 3 (ipykernel)",
   "language": "python",
   "name": "python3"
  },
  "language_info": {
   "codemirror_mode": {
    "name": "ipython",
    "version": 3
   },
   "file_extension": ".py",
   "mimetype": "text/x-python",
   "name": "python",
   "nbconvert_exporter": "python",
   "pygments_lexer": "ipython3",
   "version": "3.10.4"
  }
 },
 "nbformat": 4,
 "nbformat_minor": 1
}
