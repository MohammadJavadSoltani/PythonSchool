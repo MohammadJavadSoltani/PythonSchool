{
 "cells": [
  {
   "cell_type": "markdown",
   "metadata": {},
   "source": [
    "# Numpy\n",
    "    1. How to install numpy:\n",
    "        1. [cmd/terminal] pip install numpy\n",
    "        2. [notebook] !pip install numpy\n",
    "    2. Why arrays? \n",
    "    3. Array, Data types, Shapes\n",
    "    4. numpy functions\n",
    "        1. np.zeros\n",
    "        2. np.empty\n",
    "        3. linespace\n",
    "        4. random\n",
    "    5. Array dimension\n",
    "    6. Indexing & Slicing & Axis\n",
    "    7. Stacking\n",
    "    8. Numpy arrays are mutable"
   ]
  },
  {
   "cell_type": "markdown",
   "metadata": {},
   "source": [
    "## How to install numpy"
   ]
  },
  {
   "cell_type": "code",
   "execution_count": null,
   "metadata": {},
   "outputs": [],
   "source": [
    "# not recommended\n",
    "!pip install numpy"
   ]
  },
  {
   "cell_type": "markdown",
   "metadata": {},
   "source": [
    "### Why arrays?\n",
    "Because they are extremely fast :)"
   ]
  },
  {
   "cell_type": "code",
   "execution_count": 1,
   "metadata": {},
   "outputs": [
    {
     "name": "stdout",
     "output_type": "stream",
     "text": [
      "one_d_array: [0.0000000e+00 1.0000001e-05 2.0000002e-05 3.0000003e-05 4.0000004e-05]\n",
      "one_d_array: 10000000\n"
     ]
    }
   ],
   "source": [
    "import numpy as np\n",
    "one_d_array = np.linspace(0, 100, 10_000_000)\n",
    "print(f\"one_d_array: {one_d_array[:5]}\")\n",
    "print(f\"one_d_array: {one_d_array.size}\")"
   ]
  },
  {
   "cell_type": "code",
   "execution_count": 5,
   "metadata": {},
   "outputs": [],
   "source": [
    "import math\n",
    "def get_lst(x):\n",
    "    lst = []\n",
    "    for i in x:\n",
    "        lst.append(math.sin(i))\n",
    "    return lst"
   ]
  },
  {
   "cell_type": "markdown",
   "metadata": {},
   "source": [
    "### Let's check how we can do the same task using lists, for, and numpy arrays"
   ]
  },
  {
   "cell_type": "code",
   "execution_count": 6,
   "metadata": {
    "scrolled": true
   },
   "outputs": [
    {
     "name": "stdout",
     "output_type": "stream",
     "text": [
      "2.49 s ± 29.9 ms per loop (mean ± std. dev. of 7 runs, 1 loop each)\n"
     ]
    }
   ],
   "source": [
    "# lists\n",
    "%timeit get_lst(one_d_array)"
   ]
  },
  {
   "cell_type": "code",
   "execution_count": 7,
   "metadata": {
    "scrolled": true
   },
   "outputs": [
    {
     "name": "stdout",
     "output_type": "stream",
     "text": [
      "84.3 ms ± 891 µs per loop (mean ± std. dev. of 7 runs, 10 loops each)\n"
     ]
    }
   ],
   "source": [
    "# numpy\n",
    "%timeit np.sin(one_d_array)"
   ]
  },
  {
   "cell_type": "code",
   "execution_count": 8,
   "metadata": {},
   "outputs": [
    {
     "name": "stdout",
     "output_type": "stream",
     "text": [
      "ratio: 29.418742586002374\n"
     ]
    }
   ],
   "source": [
    "ratio = (2.48 * 1000) / 84.3\n",
    "print(f\"ratio: {ratio}\")"
   ]
  },
  {
   "cell_type": "code",
   "execution_count": 2,
   "metadata": {},
   "outputs": [],
   "source": [
    "# import numpy (convention)\n",
    "import numpy as np"
   ]
  },
  {
   "cell_type": "markdown",
   "metadata": {},
   "source": [
    "## Arrays, Data types, Shapes\n",
    "Arrays in numpy are ndarray or simply n-dimensional arrays.\n",
    "Arrays are fixed-sized in memory containing data of the same type, such as integers or floating point values."
   ]
  },
  {
   "cell_type": "code",
   "execution_count": 3,
   "metadata": {},
   "outputs": [
    {
     "name": "stdout",
     "output_type": "stream",
     "text": [
      "array: [1 2 3 4 5], with int32 data type, and (5,) shape\n"
     ]
    }
   ],
   "source": [
    "# a simple way to create an array\n",
    "array = np.array((1, 2, 3, 4, 5))\n",
    "print(f\"array: {array}, with {array.dtype} data type, and {array.shape} shape\")"
   ]
  },
  {
   "cell_type": "code",
   "execution_count": 4,
   "metadata": {},
   "outputs": [
    {
     "name": "stdout",
     "output_type": "stream",
     "text": [
      "array: [1.  2.  3.5 4.  5. ], with float64 data type, and (5,) shape\n"
     ]
    }
   ],
   "source": [
    "# set dtype explicity\n",
    "array = np.array([1, 2, 3.5, 4, 5], dtype=np.float64)\n",
    "print(f\"array: {array}, with {array.dtype} data type, and {array.shape} shape\")"
   ]
  },
  {
   "cell_type": "code",
   "execution_count": 5,
   "metadata": {},
   "outputs": [
    {
     "name": "stdout",
     "output_type": "stream",
     "text": [
      "ndim: 1, shape: (5,), size: 5 , dtype: float32, sum: 15.5, mean: 3.100, std: 1.43\n"
     ]
    }
   ],
   "source": [
    "# Basic Operators on Numpy arrays\n",
    "array = np.array([1, 2, 3.5, 4, 5], dtype=np.float32)\n",
    "print(f\"ndim: {array.ndim}, shape: {array.shape}, size: {array.size} , dtype: {array.dtype}, sum: {array.sum()}, mean: {array.mean():.3f}, std: {array.std():.2f}\")"
   ]
  },
  {
   "cell_type": "code",
   "execution_count": 6,
   "metadata": {},
   "outputs": [
    {
     "name": "stdout",
     "output_type": "stream",
     "text": [
      "before dtype: float64\n",
      "after dtype: int32\n",
      "array: [1 2 3 4 5]\n"
     ]
    }
   ],
   "source": [
    "# change an array's dtype\n",
    "array = np.array([1, 2, 3.9, 4, 5], dtype=np.float64)\n",
    "print(f\"before dtype: {array.dtype}\")\n",
    "array = array.astype(np.int32)\n",
    "print(f\"after dtype: {array.dtype}\")\n",
    "print(f\"array: {array}\")"
   ]
  },
  {
   "cell_type": "code",
   "execution_count": 7,
   "metadata": {},
   "outputs": [
    {
     "name": "stdout",
     "output_type": "stream",
     "text": [
      "ndim: 2, shape: (2, 5), size: 10 , dtype: float64, sum: 55.0\n"
     ]
    }
   ],
   "source": [
    "# nd-arrays\n",
    "lst = [[1, 2, 3, 4, 5], [6, 7, 8, 9, 10]]\n",
    "nd_array = np.array(lst, dtype=np.float64)\n",
    "print(f\"ndim: {nd_array.ndim}, shape: {nd_array.shape}, size: {nd_array.size} , dtype: {nd_array.dtype}, sum: {nd_array.sum()}\")"
   ]
  },
  {
   "cell_type": "code",
   "execution_count": 8,
   "metadata": {},
   "outputs": [
    {
     "name": "stdout",
     "output_type": "stream",
     "text": [
      "nd_array:\n",
      "[[ 1.  2.  3.  4.  5.]\n",
      " [ 6.  7.  8.  9. 10.]],\n",
      "shape: (2, 5)\n",
      "transposed_nd_array:\n",
      "[[ 1.  6.]\n",
      " [ 2.  7.]\n",
      " [ 3.  8.]\n",
      " [ 4.  9.]\n",
      " [ 5. 10.]],\n",
      "shape: (5, 2)\n"
     ]
    }
   ],
   "source": [
    "# transpose\n",
    "nd_array = np.array([[1, 2, 3, 4, 5], [6, 7, 8, 9, 10]], dtype=np.float64)\n",
    "transposed_nd_array = nd_array.T\n",
    "print(f\"nd_array:\\n{nd_array},\\nshape: {nd_array.shape}\")\n",
    "print(f\"transposed_nd_array:\\n{transposed_nd_array},\\nshape: {transposed_nd_array.shape}\")"
   ]
  },
  {
   "cell_type": "code",
   "execution_count": 9,
   "metadata": {},
   "outputs": [
    {
     "name": "stdout",
     "output_type": "stream",
     "text": [
      "ones:\n",
      "[[[1. 1. 1. 1. 1. 1. 1. 1.]\n",
      "  [1. 1. 1. 1. 1. 1. 1. 1.]]]\n"
     ]
    },
    {
     "data": {
      "text/plain": [
       "(2, 1, 8)"
      ]
     },
     "execution_count": 9,
     "metadata": {},
     "output_type": "execute_result"
    }
   ],
   "source": [
    "# np.transpose\n",
    "ones = np.ones((1, 2, 8))\n",
    "print(f\"ones:\\n{ones}\")\n",
    "np.transpose(ones, (1, 0, 2)).shape"
   ]
  },
  {
   "cell_type": "code",
   "execution_count": 10,
   "metadata": {},
   "outputs": [
    {
     "name": "stdout",
     "output_type": "stream",
     "text": [
      "nd_array shape: (2, 5)\n",
      "reshaped_array: [[ 1.  2.]\n",
      " [ 3.  4.]\n",
      " [ 5.  6.]\n",
      " [ 7.  8.]\n",
      " [ 9. 10.]]\n",
      "reshaped_array shape: (5, 2)\n"
     ]
    }
   ],
   "source": [
    "# lets reshape an array\n",
    "nd_array = np.array([[1, 2, 3, 4, 5], [6, 7, 8, 9, 10]], dtype=np.float64)\n",
    "print(\"nd_array shape:\", nd_array.shape)\n",
    "reshaped_array = nd_array.reshape((5, 2))\n",
    "print(\"reshaped_array:\", reshaped_array)\n",
    "print(\"reshaped_array shape:\", reshaped_array.shape)"
   ]
  },
  {
   "cell_type": "code",
   "execution_count": 11,
   "metadata": {},
   "outputs": [
    {
     "name": "stdout",
     "output_type": "stream",
     "text": [
      "nd_array shape: (2, 5)\n",
      "reshaped_array: [[ 1.]\n",
      " [ 2.]\n",
      " [ 3.]\n",
      " [ 4.]\n",
      " [ 5.]\n",
      " [ 6.]\n",
      " [ 7.]\n",
      " [ 8.]\n",
      " [ 9.]\n",
      " [10.]]\n",
      "reshaped_array shape: (10, 1)\n"
     ]
    }
   ],
   "source": [
    "# lets reshape an array\n",
    "nd_array = np.array([[1, 2, 3, 4, 5], [6, 7, 8, 9, 10]], dtype=np.float64)\n",
    "print(\"nd_array shape:\", nd_array.shape)\n",
    "reshaped_array = nd_array.reshape((10, -1))\n",
    "print(\"reshaped_array:\", reshaped_array)\n",
    "print(\"reshaped_array shape:\", reshaped_array.shape)"
   ]
  },
  {
   "cell_type": "markdown",
   "metadata": {},
   "source": [
    "## Numpy Functions"
   ]
  },
  {
   "cell_type": "code",
   "execution_count": 12,
   "metadata": {},
   "outputs": [
    {
     "name": "stdout",
     "output_type": "stream",
     "text": [
      "[[0. 0. 0. 0. 0. 0.]\n",
      " [0. 0. 0. 0. 0. 0.]\n",
      " [0. 0. 0. 0. 0. 0.]]\n",
      "ndim: 2, shape: (3, 6), size: 18 , dtype: float64, sum: 0.0\n"
     ]
    }
   ],
   "source": [
    "# creates an nd-array containing zeros\n",
    "zeros_array = np.zeros(shape=(3, 6))\n",
    "print(zeros_array)\n",
    "print(f\"ndim: {zeros_array.ndim}, shape: {zeros_array.shape}, size: {zeros_array.size} , dtype: {zeros_array.dtype}, sum: {zeros_array.sum()}\")"
   ]
  },
  {
   "cell_type": "code",
   "execution_count": 19,
   "metadata": {},
   "outputs": [
    {
     "name": "stdout",
     "output_type": "stream",
     "text": [
      "[[1. 1. 1. 1.]\n",
      " [1. 1. 1. 1.]\n",
      " [1. 1. 1. 1.]\n",
      " [1. 1. 1. 1.]]\n",
      "ndim: 2, shape: (4, 4), size: 16 , dtype: float64, sum: 16.0\n"
     ]
    }
   ],
   "source": [
    "# creates an empty nd-array, numbers are almost zero\n",
    "empty_array = np.empty((4, 4))\n",
    "print(empty_array)\n",
    "print(f\"ndim: {empty_array.ndim}, shape: {empty_array.shape}, size: {empty_array.size} , dtype: {empty_array.dtype}, sum: {empty_array.sum()}\")"
   ]
  },
  {
   "cell_type": "code",
   "execution_count": 20,
   "metadata": {},
   "outputs": [
    {
     "name": "stdout",
     "output_type": "stream",
     "text": [
      "interval: [ 0.   2.5  5.   7.5 10. ]\n"
     ]
    }
   ],
   "source": [
    "# Returns evenly spaced numbers over a specified interval.\n",
    "interval = np.linspace(0, 10, 5)\n",
    "print(f\"interval: {interval}\")"
   ]
  },
  {
   "cell_type": "code",
   "execution_count": 21,
   "metadata": {},
   "outputs": [
    {
     "name": "stdout",
     "output_type": "stream",
     "text": [
      "ones_array:\n",
      " [[1. 1. 1. 1.]\n",
      " [1. 1. 1. 1.]\n",
      " [1. 1. 1. 1.]]\n"
     ]
    }
   ],
   "source": [
    "# Creates an array of ones\n",
    "ones_array = np.ones((3, 4))\n",
    "print(\"ones_array:\\n\", ones_array)"
   ]
  },
  {
   "cell_type": "markdown",
   "metadata": {},
   "source": [
    "### np.random"
   ]
  },
  {
   "cell_type": "code",
   "execution_count": 23,
   "metadata": {},
   "outputs": [
    {
     "data": {
      "text/plain": [
       "array([[0.88427911, 0.08878478, 0.87512287, 0.6987637 , 0.54846565],\n",
       "       [0.40355026, 0.49916046, 0.20892081, 0.16871504, 0.83368331]])"
      ]
     },
     "execution_count": 23,
     "metadata": {},
     "output_type": "execute_result"
    }
   ],
   "source": [
    "# random function, uniform-distribution beween 0-1.0\n",
    "np.random.random((2, 5))"
   ]
  },
  {
   "cell_type": "code",
   "execution_count": 27,
   "metadata": {
    "scrolled": true
   },
   "outputs": [
    {
     "data": {
      "text/plain": [
       "array([[ 1.34209227,  0.17667218,  0.82377537,  0.3304958 ],\n",
       "       [-0.00251113,  0.87488694,  0.82419092,  1.82130143]])"
      ]
     },
     "execution_count": 27,
     "metadata": {},
     "output_type": "execute_result"
    }
   ],
   "source": [
    "# random function, standard_normal mean=0, std=1\n",
    "np.random.standard_normal((2, 4))"
   ]
  },
  {
   "cell_type": "code",
   "execution_count": 33,
   "metadata": {},
   "outputs": [
    {
     "data": {
      "text/plain": [
       "array([[19.16931085, 19.72890188, 20.90276502],\n",
       "       [20.96993434, 19.04334153, 19.25959294]])"
      ]
     },
     "execution_count": 33,
     "metadata": {},
     "output_type": "execute_result"
    }
   ],
   "source": [
    "# normal distribution\n",
    "np.random.normal(loc=20, scale=1, size=(2, 3))"
   ]
  },
  {
   "cell_type": "markdown",
   "metadata": {},
   "source": [
    "### dummy array"
   ]
  },
  {
   "cell_type": "code",
   "execution_count": 36,
   "metadata": {},
   "outputs": [
    {
     "name": "stdout",
     "output_type": "stream",
     "text": [
      "dummy_array:\n",
      "[1 2 3 4],\n",
      "shape: (4,)\n",
      "transposed_dummy_array:\n",
      "[1 2 3 4],\n",
      "shape: (4,)\n",
      "both arrays are the same: True\n"
     ]
    }
   ],
   "source": [
    "dummy_array = np.array([1, 2, 3, 4])\n",
    "print(f\"dummy_array:\\n{dummy_array},\\nshape: {dummy_array.shape}\")\n",
    "# why it's called dummy?\n",
    "transposed_dummy_array = dummy_array.T\n",
    "print(f\"transposed_dummy_array:\\n{transposed_dummy_array},\\nshape: {transposed_dummy_array.shape}\")\n",
    "print(f\"both arrays are the same: {np.all(transposed_dummy_array == dummy_array)}\")"
   ]
  },
  {
   "cell_type": "markdown",
   "metadata": {},
   "source": [
    "### Indexing & Slicing & Axis "
   ]
  },
  {
   "cell_type": "code",
   "execution_count": 37,
   "metadata": {},
   "outputs": [
    {
     "data": {
      "text/plain": [
       "array([[0.45853074, 0.65631789, 0.17428689, 0.86468645, 0.7740036 ],\n",
       "       [0.67117275, 0.87565634, 0.88341578, 0.22127502, 0.40411414],\n",
       "       [0.4373681 , 0.06224675, 0.83311318, 0.85684873, 0.15754392],\n",
       "       [0.82392886, 0.94515747, 0.83459254, 0.04470891, 0.85436195]])"
      ]
     },
     "execution_count": 37,
     "metadata": {},
     "output_type": "execute_result"
    }
   ],
   "source": [
    "array = np.random.random((4, 5))\n",
    "array"
   ]
  },
  {
   "cell_type": "code",
   "execution_count": 38,
   "metadata": {},
   "outputs": [
    {
     "data": {
      "text/plain": [
       "0.8834157806647018"
      ]
     },
     "execution_count": 38,
     "metadata": {},
     "output_type": "execute_result"
    }
   ],
   "source": [
    "# Accessing a value\n",
    "array[1, 2]\n",
    "# list -> lst[1][2]"
   ]
  },
  {
   "cell_type": "code",
   "execution_count": 39,
   "metadata": {},
   "outputs": [
    {
     "data": {
      "text/plain": [
       "array([0.4373681 , 0.06224675, 0.83311318, 0.85684873, 0.15754392])"
      ]
     },
     "execution_count": 39,
     "metadata": {},
     "output_type": "execute_result"
    }
   ],
   "source": [
    "# Accessing a row\n",
    "array[2, :]"
   ]
  },
  {
   "cell_type": "code",
   "execution_count": 40,
   "metadata": {},
   "outputs": [
    {
     "data": {
      "text/plain": [
       "array([0.86468645, 0.22127502, 0.85684873, 0.04470891])"
      ]
     },
     "execution_count": 40,
     "metadata": {},
     "output_type": "execute_result"
    }
   ],
   "source": [
    "# Accessing a column\n",
    "array[:, 3]"
   ]
  },
  {
   "cell_type": "code",
   "execution_count": null,
   "metadata": {},
   "outputs": [],
   "source": [
    "# nd-dimensional, this array is like an image (RGB)\n",
    "array = np.random.random((4, 5, 3))\n",
    "array"
   ]
  },
  {
   "cell_type": "code",
   "execution_count": null,
   "metadata": {},
   "outputs": [],
   "source": [
    "# get the last dimension\n",
    "array[:, :, 0] # getting first channel(R)"
   ]
  },
  {
   "cell_type": "markdown",
   "metadata": {},
   "source": [
    "### Slicing"
   ]
  },
  {
   "cell_type": "code",
   "execution_count": 43,
   "metadata": {},
   "outputs": [
    {
     "name": "stdout",
     "output_type": "stream",
     "text": [
      "[[[0.58736894 0.45953686 0.91541241]\n",
      "  [0.85565047 0.77334659 0.67622007]\n",
      "  [0.52843387 0.84957    0.01787371]]\n",
      "\n",
      " [[0.99615632 0.33199208 0.99947331]\n",
      "  [0.32635999 0.24095858 0.80601194]\n",
      "  [0.07883953 0.93453885 0.19689686]]\n",
      "\n",
      " [[0.41325026 0.14913819 0.20021304]\n",
      "  [0.01681449 0.40717952 0.05316834]\n",
      "  [0.5560527  0.34246529 0.55186074]]\n",
      "\n",
      " [[0.05988883 0.22453899 0.38683528]\n",
      "  [0.24707148 0.88271523 0.73924548]\n",
      "  [0.84671666 0.61951203 0.82028995]]]\n",
      "(4, 3, 3)\n"
     ]
    }
   ],
   "source": [
    "array = np.random.random((4, 5, 3))\n",
    "sliced_array = array[:, ::2, :]\n",
    "print(sliced_array)\n",
    "print(sliced_array.shape)"
   ]
  },
  {
   "cell_type": "code",
   "execution_count": null,
   "metadata": {},
   "outputs": [],
   "source": [
    "# negative and ...\n",
    "# ... means take rest as they are\n",
    "array = np.random.random((4, 5, 3))\n",
    "sliced_array = array[1:-1, ...]\n",
    "# sliced_array = array[1:-1, :, :]\n",
    "print(sliced_array)\n",
    "print(sliced_array.shape)"
   ]
  },
  {
   "cell_type": "code",
   "execution_count": 41,
   "metadata": {},
   "outputs": [
    {
     "name": "stdout",
     "output_type": "stream",
     "text": [
      "dummy_row, (5,):\n",
      "[0.67117275 0.87565634 0.88341578 0.22127502 0.40411414]\n"
     ]
    }
   ],
   "source": [
    "# dummy row\n",
    "dummy_row = array[1, :]\n",
    "print(f\"dummy_row, {dummy_row.shape}:\\n{dummy_row}\")"
   ]
  },
  {
   "cell_type": "code",
   "execution_count": 42,
   "metadata": {},
   "outputs": [
    {
     "name": "stdout",
     "output_type": "stream",
     "text": [
      "[[0.67117275 0.87565634 0.88341578 0.22127502 0.40411414]]\n",
      "(1, 5)\n"
     ]
    }
   ],
   "source": [
    "# Getting a row, but not in as a dummy array\n",
    "not_dummy_row = array[1:2, :]\n",
    "print(not_dummy_row)\n",
    "print(not_dummy_row.shape)"
   ]
  },
  {
   "cell_type": "markdown",
   "metadata": {},
   "source": [
    "### Axis\n",
    "sum can be replaced with any numpy function that operates on a bunch of numbers like, mean, std, and so on."
   ]
  },
  {
   "cell_type": "code",
   "execution_count": 44,
   "metadata": {},
   "outputs": [
    {
     "name": "stdout",
     "output_type": "stream",
     "text": [
      "[[0.81376594 0.24465262 0.19802584 0.27754046 0.22733913]\n",
      " [0.00397167 0.08904099 0.60611583 0.59062541 0.9871143 ]\n",
      " [0.57515224 0.79842247 0.49724855 0.48596249 0.17532801]\n",
      " [0.94909911 0.98632835 0.40805477 0.24647546 0.06002443]]\n",
      "sum column-wise/horrizontally:\n",
      " [1.761324   2.2768682  2.53211376 2.64998212]\n"
     ]
    }
   ],
   "source": [
    "array = np.random.random((4, 5))\n",
    "print(array)\n",
    "print(f\"sum column-wise/horrizontally:\\n\", array.sum(axis=1))"
   ]
  },
  {
   "cell_type": "code",
   "execution_count": 45,
   "metadata": {},
   "outputs": [
    {
     "name": "stdout",
     "output_type": "stream",
     "text": [
      "sum row-wise/vertically:\n",
      " [2.34198896 2.11844443 1.70944499 1.60060382 1.44980588]\n"
     ]
    }
   ],
   "source": [
    "print(f\"sum row-wise/vertically:\\n\", array.sum(axis=0))"
   ]
  },
  {
   "cell_type": "code",
   "execution_count": 48,
   "metadata": {},
   "outputs": [
    {
     "name": "stdout",
     "output_type": "stream",
     "text": [
      "[[[7.06155918e-01 8.51445098e-01 4.47087748e-01]\n",
      "  [1.31451489e-01 4.62897068e-01 3.83902138e-01]\n",
      "  [3.50329109e-01 2.55325138e-01 9.37140538e-01]\n",
      "  [9.38564785e-01 2.21243083e-01 1.74831036e-02]\n",
      "  [3.25955634e-01 8.39474666e-01 4.34522318e-01]]\n",
      "\n",
      " [[8.41843580e-01 7.80712607e-01 1.14935183e-01]\n",
      "  [6.76565731e-01 9.74314478e-01 6.64017510e-01]\n",
      "  [8.19606005e-01 7.38285616e-01 7.59466198e-01]\n",
      "  [4.99400675e-01 2.18749119e-01 8.85763405e-01]\n",
      "  [6.78740578e-01 9.66918130e-01 3.08213623e-02]]\n",
      "\n",
      " [[3.19811007e-04 8.22802835e-01 8.90161672e-01]\n",
      "  [4.82221764e-02 6.85505142e-02 8.06734604e-01]\n",
      "  [5.78328970e-01 4.68798752e-01 3.54779271e-01]\n",
      "  [6.44006093e-01 7.17881943e-01 4.64281461e-02]\n",
      "  [2.47198380e-01 2.56239501e-01 9.95356823e-01]]\n",
      "\n",
      " [[1.16849108e-01 2.76562320e-01 4.86245038e-01]\n",
      "  [9.54032488e-01 7.99546846e-01 4.70804927e-01]\n",
      "  [6.02392187e-01 2.25415865e-01 6.97896621e-03]\n",
      "  [1.14323599e-01 7.31964184e-01 9.38563390e-01]\n",
      "  [5.07994072e-01 8.46212384e-02 2.18727370e-01]]]\n",
      "array shape: (4, 5, 3)\n",
      "sum channel-wise:\n",
      " [[0.66822959 0.32608356 0.51426493 0.39243032 0.53331754]\n",
      " [0.57916379 0.77163257 0.77245261 0.53463773 0.55882669]\n",
      " [0.57109477 0.30783576 0.46730233 0.46943873 0.49959823]\n",
      " [0.29321882 0.74146142 0.27826234 0.59495039 0.27044756]]\n",
      "channel-wise shape: (4, 5)\n"
     ]
    }
   ],
   "source": [
    "# nd-dimensional, this array is like an image (RGB)\n",
    "array = np.random.random((4, 5, 3))\n",
    "print(array)\n",
    "print(f\"array shape:\", array.shape)\n",
    "channel_wised_mean = array.mean(axis=2)\n",
    "print(f\"sum channel-wise:\\n\", channel_wised_mean)\n",
    "print(f\"channel-wise shape:\", channel_wised_mean.shape)"
   ]
  },
  {
   "cell_type": "markdown",
   "metadata": {},
   "source": [
    "### Stacking\n",
    "How to combine more two or more arrays"
   ]
  },
  {
   "cell_type": "code",
   "execution_count": 52,
   "metadata": {},
   "outputs": [],
   "source": [
    "array_1 = np.random.random((2, 3))\n",
    "array_2 = np.random.random((4, 3))\n",
    "array_3 = np.random.random((1, 3))"
   ]
  },
  {
   "cell_type": "code",
   "execution_count": 53,
   "metadata": {},
   "outputs": [
    {
     "name": "stdout",
     "output_type": "stream",
     "text": [
      "[[0.56478316 0.62752478 0.25224687]\n",
      " [0.46855996 0.08024286 0.959329  ]\n",
      " [0.67737988 0.38045628 0.11754645]\n",
      " [0.10047833 0.9325139  0.59627482]\n",
      " [0.22911021 0.94408991 0.49301922]\n",
      " [0.5229615  0.16933263 0.50609451]\n",
      " [0.95279645 0.51667222 0.86259499]]\n",
      "vstack shape: (7, 3)\n"
     ]
    }
   ],
   "source": [
    "# Stack arrays in sequence vertically (row wise).\n",
    "vstack = np.vstack([array_1, array_2, array_3])\n",
    "print(vstack)\n",
    "print(f\"vstack shape:\", vstack.shape)"
   ]
  },
  {
   "cell_type": "code",
   "execution_count": 54,
   "metadata": {},
   "outputs": [],
   "source": [
    "array_1 = np.random.random((4, 5))\n",
    "array_2 = np.random.random((4, 3))"
   ]
  },
  {
   "cell_type": "code",
   "execution_count": 55,
   "metadata": {},
   "outputs": [
    {
     "name": "stdout",
     "output_type": "stream",
     "text": [
      "[[0.06065347 0.0169426  0.00681024 0.25790187 0.70266436 0.15249116\n",
      "  0.38598716 0.44631734]\n",
      " [0.19270385 0.42038138 0.85496352 0.02575514 0.55220714 0.12545528\n",
      "  0.95003621 0.19058124]\n",
      " [0.01060189 0.8078461  0.82829623 0.78176449 0.42051277 0.87120892\n",
      "  0.00901367 0.82571925]\n",
      " [0.94455056 0.71978091 0.1797401  0.57914218 0.72870392 0.51434491\n",
      "  0.69326203 0.76732728]]\n",
      "hstack shape: (4, 8)\n"
     ]
    }
   ],
   "source": [
    "# Stack arrays in sequence horizontally (column wise)\n",
    "hstack = np.hstack([array_1, array_2])\n",
    "print(hstack)\n",
    "print(f\"hstack shape:\", hstack.shape)"
   ]
  },
  {
   "cell_type": "code",
   "execution_count": 62,
   "metadata": {},
   "outputs": [],
   "source": [
    "array_1 = np.random.random((4, 5))\n",
    "array_2 = np.random.random((4, 5))"
   ]
  },
  {
   "cell_type": "code",
   "execution_count": 66,
   "metadata": {},
   "outputs": [
    {
     "name": "stdout",
     "output_type": "stream",
     "text": [
      "[[[0.73867706 0.60183287 0.54784959 0.16911158 0.58553714]\n",
      "  [0.86991473 0.25411314 0.60013525 0.86225335 0.37962161]\n",
      "  [0.12855986 0.14324087 0.28404052 0.35581008 0.78898084]\n",
      "  [0.67751507 0.63236418 0.94849558 0.38402615 0.99686076]]\n",
      "\n",
      " [[0.28616814 0.01481299 0.11012833 0.87549117 0.51425181]\n",
      "  [0.60335915 0.47066277 0.69526548 0.58708435 0.17259027]\n",
      "  [0.39305673 0.62366149 0.26308753 0.34252176 0.8630318 ]\n",
      "  [0.06575171 0.95273524 0.77829881 0.67605888 0.50295602]]]\n",
      "stack shape: (2, 4, 5)\n"
     ]
    }
   ],
   "source": [
    "# Join a sequence of arrays along a new axis\n",
    "stack = np.stack([array_1, array_2], axis=0)\n",
    "print(stack)\n",
    "print(f\"stack shape:\", stack.shape)"
   ]
  },
  {
   "cell_type": "markdown",
   "metadata": {},
   "source": [
    "## Numpy arrays are mutable"
   ]
  },
  {
   "cell_type": "code",
   "execution_count": 68,
   "metadata": {},
   "outputs": [
    {
     "name": "stdout",
     "output_type": "stream",
     "text": [
      "array_1:\n",
      "[10  2  3]\n",
      "array_2:\n",
      "[10  2  3]\n"
     ]
    }
   ],
   "source": [
    "array_1 = np.array([1, 2, 3])\n",
    "array_2 = array_1\n",
    "array_2[0] = 10\n",
    "print(f\"array_1:\\n{array_1}\")\n",
    "print(f\"array_2:\\n{array_2}\")"
   ]
  },
  {
   "cell_type": "code",
   "execution_count": 69,
   "metadata": {},
   "outputs": [
    {
     "name": "stdout",
     "output_type": "stream",
     "text": [
      "[1 2 3]\n",
      "[10  2  3]\n"
     ]
    }
   ],
   "source": [
    "# how to prevent changes that occur due to mutability of numpy arrays\n",
    "array_1 = np.array([1, 2, 3])\n",
    "array_2 = array_1.copy()\n",
    "array_2[0] = 10\n",
    "print(f\"array_1:\\n{array_1}\")\n",
    "print(f\"array_2:\\n{array_2}\")"
   ]
  },
  {
   "cell_type": "markdown",
   "metadata": {},
   "source": [
    "*:)*"
   ]
  }
 ],
 "metadata": {
  "kernelspec": {
   "display_name": "Python 3 (ipykernel)",
   "language": "python",
   "name": "python3"
  },
  "language_info": {
   "codemirror_mode": {
    "name": "ipython",
    "version": 3
   },
   "file_extension": ".py",
   "mimetype": "text/x-python",
   "name": "python",
   "nbconvert_exporter": "python",
   "pygments_lexer": "ipython3",
   "version": "3.10.4"
  }
 },
 "nbformat": 4,
 "nbformat_minor": 1
}
