{
 "cells": [
  {
   "cell_type": "markdown",
   "id": "039c638e",
   "metadata": {},
   "source": [
    "# Numpy\n",
    "    boolean masks\n",
    "    Mathematical Operations\n",
    "    Broadcasting\n",
    "    Save & Load    "
   ]
  },
  {
   "cell_type": "markdown",
   "id": "69f1b819",
   "metadata": {},
   "source": [
    "## Boolean masks"
   ]
  },
  {
   "cell_type": "code",
   "execution_count": 42,
   "id": "47c22968",
   "metadata": {},
   "outputs": [],
   "source": [
    "array = np.array([1, 2, 3, 10, 6, -1])"
   ]
  },
  {
   "cell_type": "code",
   "execution_count": 43,
   "id": "5f28fb85",
   "metadata": {},
   "outputs": [
    {
     "data": {
      "text/plain": [
       "array([ 1,  3, -1])"
      ]
     },
     "execution_count": 43,
     "metadata": {},
     "output_type": "execute_result"
    }
   ],
   "source": [
    "# fetch a group of indices\n",
    "array[[0, 2, -1]]"
   ]
  },
  {
   "cell_type": "code",
   "execution_count": 44,
   "id": "aaadaa40",
   "metadata": {},
   "outputs": [
    {
     "name": "stdout",
     "output_type": "stream",
     "text": [
      "a boolean mask: [False False False  True  True False]\n"
     ]
    }
   ],
   "source": [
    "# create a boolean mask for numbers which are larger than a pre-defined number\n",
    "a_number = 5\n",
    "boolean_mask = array > 5\n",
    "print(\"a boolean mask:\", boolean_mask)"
   ]
  },
  {
   "cell_type": "code",
   "execution_count": 45,
   "id": "8960fc0e",
   "metadata": {},
   "outputs": [
    {
     "name": "stdout",
     "output_type": "stream",
     "text": [
      "values which are larger than 5: [10  6]\n"
     ]
    }
   ],
   "source": [
    "# get values using boolean mask\n",
    "print(f\"values which are larger than {a_number}:\", array[boolean_mask])"
   ]
  },
  {
   "cell_type": "code",
   "execution_count": 46,
   "id": "ac62d869",
   "metadata": {},
   "outputs": [
    {
     "name": "stdout",
     "output_type": "stream",
     "text": [
      "values which are larger than 5: [10  6]\n"
     ]
    }
   ],
   "source": [
    "print(f\"values which are larger than {a_number}:\", array[array > 5])"
   ]
  },
  {
   "cell_type": "markdown",
   "id": "c9d0f3de",
   "metadata": {},
   "source": [
    "### Mathematical Operations"
   ]
  },
  {
   "cell_type": "code",
   "execution_count": 47,
   "id": "1468e00c",
   "metadata": {
    "scrolled": true
   },
   "outputs": [
    {
     "name": "stdout",
     "output_type": "stream",
     "text": [
      "cosine_array: (2, 3)\n",
      "sine_array: (2, 3)\n"
     ]
    }
   ],
   "source": [
    "array = np.random.random((2, 3))\n",
    "cos_array = np.cos(array)\n",
    "sine_array = np.sin(array)\n",
    "print(f'cosine_array: {cos_array.shape}')\n",
    "print(f'sine_array: {sine_array.shape}')"
   ]
  },
  {
   "cell_type": "code",
   "execution_count": null,
   "id": "a00080f3",
   "metadata": {},
   "outputs": [],
   "source": [
    "# Add\n",
    "array_1 = np.random.random((4, 5))\n",
    "array_2 = np.ones_like(array_1)\n",
    "print(f\"array_1:\\n{array_1}\")\n",
    "print(f\"array_2:\\n{array_2}\")\n",
    "print(f\"array_1 + array_2 =\\n{array_1 + array_2}\")"
   ]
  },
  {
   "cell_type": "code",
   "execution_count": null,
   "id": "507196b3",
   "metadata": {},
   "outputs": [],
   "source": [
    "# matrix multiplication\n",
    "array_1 = np.random.random((4, 5))\n",
    "array_2 = np.ones_like(array_1).T\n",
    "print(f\"array_1: {array_1.shape}\\n{array_1}\")\n",
    "print(f\"array_2: {array_2.shape}\\n{array_2}\")\n",
    "matrix_multiplication = np.dot(array_1, array_2)\n",
    "# or\n",
    "# matrix_multiplication = np.matmul(array_1, array_2)\n",
    "print(f\"array_1 * array_2 =\\n{matrix_multiplication}\")\n",
    "print(f\"shape: {matrix_multiplication.shape}\")"
   ]
  },
  {
   "cell_type": "code",
   "execution_count": null,
   "id": "f3e0fcc0",
   "metadata": {},
   "outputs": [],
   "source": [
    "# elementwise multiplication\n",
    "array_1 = np.random.random((4, 5))\n",
    "array_2 = np.ones_like(array_1) * 2 # broadcasting, we'll check it later\n",
    "print(f\"array_1: {array_1.shape}\\n{array_1}\")\n",
    "print(f\"array_2: {array_2.shape}\\n{array_2}\")\n",
    "element_wise_multiplication = np.multiply(array_1,  array_2)\n",
    "print(f\"array_1 * array_2 =\\n{element_wise_multiplication}\")\n",
    "print(f\"shape: {element_wise_multiplication.shape}\")"
   ]
  },
  {
   "cell_type": "code",
   "execution_count": null,
   "id": "e6bb0d2f",
   "metadata": {},
   "outputs": [],
   "source": [
    "# task -> ((A'PA)^-1)(A'PL)\n",
    "A = np.array([[1, 2],[3, 5],[7, 6]])\n",
    "P = np.diag([5, 5, 5])\n",
    "L = np.array([7, 3, 2]).reshape((3, 1))\n",
    "\n",
    "# answer ...\n",
    "# If you don't know some of the funtions asked in the task, Google them...\n",
    "# To be honest, at the time of writing thses comments I coudn't remember how to do inversion in numpy :D"
   ]
  },
  {
   "cell_type": "markdown",
   "id": "c1eeb10f",
   "metadata": {},
   "source": [
    "### Broadcasting"
   ]
  },
  {
   "cell_type": "code",
   "execution_count": null,
   "id": "5318d9de",
   "metadata": {},
   "outputs": [],
   "source": [
    "ones = np.ones((6, 5))\n",
    "ones"
   ]
  },
  {
   "cell_type": "code",
   "execution_count": null,
   "id": "d9052775",
   "metadata": {},
   "outputs": [],
   "source": [
    "# element-wise add\n",
    "twos = np.ones((6, 5)) * 2\n",
    "print(f\"ones: {ones.shape}\")\n",
    "print(f\"twos: {twos.shape}\")\n",
    "print(f\"ones + twos =\\n{ones + twos}\")"
   ]
  },
  {
   "cell_type": "code",
   "execution_count": null,
   "id": "71f9e96f",
   "metadata": {},
   "outputs": [],
   "source": [
    "twos = np.ones((6, 2)) * 2\n",
    "print(f\"ones: {ones.shape}\")\n",
    "print(f\"twos: {twos.shape}\")\n",
    "print(f\"ones + twos =\\n{ones + twos}\")"
   ]
  },
  {
   "cell_type": "code",
   "execution_count": null,
   "id": "0e45170f",
   "metadata": {},
   "outputs": [],
   "source": [
    "# how broadcasting works\n",
    "twos = np.ones((6, 1)) * 2\n",
    "print(f\"ones: {ones.shape}\")\n",
    "print(f\"twos: {twos.shape}\")\n",
    "print(f\"ones + twos =\\n{ones + twos}\")"
   ]
  },
  {
   "cell_type": "code",
   "execution_count": null,
   "id": "de969256",
   "metadata": {},
   "outputs": [],
   "source": [
    "# how broadcasting works\n",
    "twos = np.ones((6, 1)) * 2\n",
    "print(f\"ones: {ones.shape}\")\n",
    "print(f\"twos: {twos.shape}\")\n",
    "print(f\"ones * twos =\\n{ones * twos}\")"
   ]
  },
  {
   "cell_type": "markdown",
   "id": "1a9297a0",
   "metadata": {},
   "source": [
    "## Save & Load"
   ]
  },
  {
   "cell_type": "code",
   "execution_count": null,
   "id": "2a3fb19d",
   "metadata": {},
   "outputs": [],
   "source": [
    "array = np.random.randint(0, high=10, size=(5, 2))\n",
    "print(f\"array: {array}\")\n",
    "np.save('array.npy', array)"
   ]
  },
  {
   "cell_type": "code",
   "execution_count": null,
   "id": "b8f986b4",
   "metadata": {},
   "outputs": [],
   "source": [
    "array_load = np.load('array.npy')\n",
    "array_load"
   ]
  },
  {
   "cell_type": "code",
   "execution_count": null,
   "id": "ec178cc9",
   "metadata": {},
   "outputs": [],
   "source": [
    "print(f\"Are both arrays the same: {np.all(array_load == array)}\")"
   ]
  },
  {
   "cell_type": "markdown",
   "id": "93c99210",
   "metadata": {},
   "source": [
    "*:)*"
   ]
  },
  {
   "cell_type": "code",
   "execution_count": null,
   "id": "a8941078",
   "metadata": {},
   "outputs": [],
   "source": []
  }
 ],
 "metadata": {
  "kernelspec": {
   "display_name": "Python 3 (ipykernel)",
   "language": "python",
   "name": "python3"
  },
  "language_info": {
   "codemirror_mode": {
    "name": "ipython",
    "version": 3
   },
   "file_extension": ".py",
   "mimetype": "text/x-python",
   "name": "python",
   "nbconvert_exporter": "python",
   "pygments_lexer": "ipython3",
   "version": "3.10.4"
  }
 },
 "nbformat": 4,
 "nbformat_minor": 5
}
