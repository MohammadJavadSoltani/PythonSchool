{
 "cells": [
  {
   "cell_type": "markdown",
   "id": "039c638e",
   "metadata": {},
   "source": [
    "# Numpy - part 02\n",
    "    1. boolean masks\n",
    "    2. Mathematical Operations\n",
    "    3. Broadcasting\n",
    "    4. np.where & Unicode array\n",
    "    5. Datetime\n",
    "    6. Save & Load    "
   ]
  },
  {
   "cell_type": "code",
   "execution_count": null,
   "id": "2c0877f0",
   "metadata": {},
   "outputs": [],
   "source": [
    "# import numpy\n",
    "import numpy as np"
   ]
  },
  {
   "cell_type": "markdown",
   "id": "69f1b819",
   "metadata": {},
   "source": [
    "## Boolean masks"
   ]
  },
  {
   "cell_type": "code",
   "execution_count": null,
   "id": "47c22968",
   "metadata": {},
   "outputs": [],
   "source": [
    "array = np.array([1, 2, 3, 10, 6, -2])\n",
    "array"
   ]
  },
  {
   "cell_type": "code",
   "execution_count": null,
   "id": "5f28fb85",
   "metadata": {},
   "outputs": [],
   "source": [
    "# get a group of indices\n",
    "array[[2, 2, 0, -1]]"
   ]
  },
  {
   "cell_type": "code",
   "execution_count": null,
   "id": "aaadaa40",
   "metadata": {},
   "outputs": [],
   "source": [
    "# create a boolean mask for numbers which are larger than a pre-defined number\n",
    "a_number = 5\n",
    "boolean_mask = array > 5\n",
    "print(\"boolean mask:\", boolean_mask)"
   ]
  },
  {
   "cell_type": "code",
   "execution_count": null,
   "id": "8960fc0e",
   "metadata": {},
   "outputs": [],
   "source": [
    "# get values using boolean mask\n",
    "print(f\"values which are larger than {a_number}:\", array[boolean_mask])"
   ]
  },
  {
   "cell_type": "code",
   "execution_count": null,
   "id": "ac62d869",
   "metadata": {},
   "outputs": [],
   "source": [
    "print(f\"values which are larger than {a_number}:\", array[array > 5])"
   ]
  },
  {
   "cell_type": "markdown",
   "id": "c9d0f3de",
   "metadata": {},
   "source": [
    "### Mathematical Operations"
   ]
  },
  {
   "cell_type": "code",
   "execution_count": null,
   "id": "1468e00c",
   "metadata": {
    "scrolled": true
   },
   "outputs": [],
   "source": [
    "array = np.random.random((2, 3))\n",
    "cos_array = np.cos(array)\n",
    "sine_array = np.sin(array)\n",
    "print(f'cosine_array: {cos_array.shape}')\n",
    "print(f'sine_array: {sine_array.shape}')"
   ]
  },
  {
   "cell_type": "code",
   "execution_count": null,
   "id": "a00080f3",
   "metadata": {},
   "outputs": [],
   "source": [
    "# Add\n",
    "array_1 = np.random.randint(0, 10, (4, 5))\n",
    "array_2 = np.ones_like(array_1)\n",
    "print(f\"array_1:\\n{array_1}\")\n",
    "print(f\"array_2:\\n{array_2}\")\n",
    "print(f\"array_1 + array_2 =\\n{array_1 + array_2}\")"
   ]
  },
  {
   "cell_type": "code",
   "execution_count": null,
   "id": "507196b3",
   "metadata": {},
   "outputs": [],
   "source": [
    "# matrix multiplication\n",
    "array_1 = np.random.random((4, 5))\n",
    "array_2 = np.ones_like(array_1).T\n",
    "print(f\"array_1: {array_1.shape}\\n{array_1}\")\n",
    "print(f\"array_2: {array_2.shape}\\n{array_2}\")\n",
    "matrix_multiplication = np.dot(array_1, array_2)\n",
    "# or\n",
    "# matrix_multiplication = np.matmul(array_1, array_2)\n",
    "print(f\"array_1 * array_2 =\\n{matrix_multiplication}\")\n",
    "print(f\"shape: {matrix_multiplication.shape}\")"
   ]
  },
  {
   "cell_type": "code",
   "execution_count": null,
   "id": "f3e0fcc0",
   "metadata": {},
   "outputs": [],
   "source": [
    "# elementwise multiplication\n",
    "array_1 = np.random.random((4, 5))\n",
    "array_2 = np.ones_like(array_1) * 2 # broadcasting, we'll check it in the next section\n",
    "print(f\"array_1: {array_1.shape}\\n{array_1}\")\n",
    "print(f\"array_2: {array_2.shape}\\n{array_2}\")\n",
    "element_wise_multiplication = np.multiply(array_1,  array_2)\n",
    "# element_wise_multiplication = array_1 * array_2\n",
    "print(f\"array_1 * array_2 =\\n{element_wise_multiplication}\")\n",
    "print(f\"shape: {element_wise_multiplication.shape}\")"
   ]
  },
  {
   "cell_type": "code",
   "execution_count": null,
   "id": "e6bb0d2f",
   "metadata": {},
   "outputs": [],
   "source": [
    "# task -> ((A'PA)^-1)(A'PL)\n",
    "A = np.array([[1, 2],[3, 5],[7, 6]])\n",
    "P = np.diag([5, 5, 5])\n",
    "L = np.array([7, 3, 2]).reshape((3, 1))\n",
    "\n",
    "# answer ...\n",
    "# If you don't know some of the funtions asked in the task, Google them...\n",
    "# To be honest, at the time of writing thses comments I coudn't remember how to do inversion in numpy :D"
   ]
  },
  {
   "cell_type": "markdown",
   "id": "c1eeb10f",
   "metadata": {},
   "source": [
    "### Broadcasting"
   ]
  },
  {
   "cell_type": "code",
   "execution_count": null,
   "id": "5318d9de",
   "metadata": {},
   "outputs": [],
   "source": [
    "array_1 = np.ones((6, 5))\n",
    "array_1"
   ]
  },
  {
   "cell_type": "code",
   "execution_count": null,
   "id": "d9052775",
   "metadata": {},
   "outputs": [],
   "source": [
    "# element-wise add\n",
    "array_2 = np.random.random((6, 5))\n",
    "print(f\"array_1: {array_1.shape}\")\n",
    "print(f\"array_2: {array_2.shape}\")\n",
    "print(f\"array_1 + array_2 =\\n{array_1 + array_2}\")"
   ]
  },
  {
   "cell_type": "code",
   "execution_count": 43,
   "id": "802ac821",
   "metadata": {},
   "outputs": [
    {
     "name": "stdout",
     "output_type": "stream",
     "text": [
      "array_1: (6, 5)\n",
      "scalar: 5\n",
      "array_1 + scalar =\n",
      "[[6. 6. 6. 6. 6.]\n",
      " [6. 6. 6. 6. 6.]\n",
      " [6. 6. 6. 6. 6.]\n",
      " [6. 6. 6. 6. 6.]\n",
      " [6. 6. 6. 6. 6.]\n",
      " [6. 6. 6. 6. 6.]]\n"
     ]
    }
   ],
   "source": [
    "# how broadcasting works\n",
    "scalar = 5\n",
    "print(f\"array_1: {array_1.shape}\")\n",
    "print(f\"scalar: {scalar}\")\n",
    "print(f\"array_1 + scalar =\\n{array_1 + scalar}\")"
   ]
  },
  {
   "cell_type": "code",
   "execution_count": 47,
   "id": "d14c15af",
   "metadata": {},
   "outputs": [
    {
     "name": "stdout",
     "output_type": "stream",
     "text": [
      "array_1: (6, 5)\n",
      "array_2: (1,)\n",
      "array_1 * array_2 =\n",
      "[[0.62449269 0.62449269 0.62449269 0.62449269 0.62449269]\n",
      " [0.62449269 0.62449269 0.62449269 0.62449269 0.62449269]\n",
      " [0.62449269 0.62449269 0.62449269 0.62449269 0.62449269]\n",
      " [0.62449269 0.62449269 0.62449269 0.62449269 0.62449269]\n",
      " [0.62449269 0.62449269 0.62449269 0.62449269 0.62449269]\n",
      " [0.62449269 0.62449269 0.62449269 0.62449269 0.62449269]]\n"
     ]
    }
   ],
   "source": [
    "# how broadcasting works\n",
    "array_2 = np.random.random((1,))\n",
    "print(f\"array_1: {array_1.shape}\")\n",
    "print(f\"array_2: {array_2.shape}\")\n",
    "print(f\"array_1 * array_2 =\\n{array_1 * array_2}\")"
   ]
  },
  {
   "cell_type": "code",
   "execution_count": 48,
   "id": "de969256",
   "metadata": {},
   "outputs": [
    {
     "name": "stdout",
     "output_type": "stream",
     "text": [
      "array_1: (6, 5)\n",
      "array_2: (6, 1)\n",
      "array_1 * array_2 =\n",
      "[[0.72164371 0.72164371 0.72164371 0.72164371 0.72164371]\n",
      " [0.47127346 0.47127346 0.47127346 0.47127346 0.47127346]\n",
      " [0.21963461 0.21963461 0.21963461 0.21963461 0.21963461]\n",
      " [0.07488933 0.07488933 0.07488933 0.07488933 0.07488933]\n",
      " [0.26312471 0.26312471 0.26312471 0.26312471 0.26312471]\n",
      " [0.47606599 0.47606599 0.47606599 0.47606599 0.47606599]]\n"
     ]
    }
   ],
   "source": [
    "# how broadcasting works\n",
    "array_2 = np.random.random((6, 1))\n",
    "print(f\"array_1: {array_1.shape}\")\n",
    "print(f\"array_2: {array_2.shape}\")\n",
    "print(f\"array_1 * array_2 =\\n{array_1 * array_2}\")"
   ]
  },
  {
   "cell_type": "code",
   "execution_count": 51,
   "id": "e5117fae",
   "metadata": {},
   "outputs": [
    {
     "name": "stdout",
     "output_type": "stream",
     "text": [
      "array_1: (6, 5)\n",
      "array_2: (2, 5)\n"
     ]
    },
    {
     "ename": "ValueError",
     "evalue": "operands could not be broadcast together with shapes (6,5) (2,5) ",
     "output_type": "error",
     "traceback": [
      "\u001b[1;31m---------------------------------------------------------------------------\u001b[0m",
      "\u001b[1;31mValueError\u001b[0m                                Traceback (most recent call last)",
      "Input \u001b[1;32mIn [51]\u001b[0m, in \u001b[0;36m<cell line: 5>\u001b[1;34m()\u001b[0m\n\u001b[0;32m      3\u001b[0m \u001b[38;5;28mprint\u001b[39m(\u001b[38;5;124mf\u001b[39m\u001b[38;5;124m\"\u001b[39m\u001b[38;5;124marray_1: \u001b[39m\u001b[38;5;132;01m{\u001b[39;00marray_1\u001b[38;5;241m.\u001b[39mshape\u001b[38;5;132;01m}\u001b[39;00m\u001b[38;5;124m\"\u001b[39m)\n\u001b[0;32m      4\u001b[0m \u001b[38;5;28mprint\u001b[39m(\u001b[38;5;124mf\u001b[39m\u001b[38;5;124m\"\u001b[39m\u001b[38;5;124marray_2: \u001b[39m\u001b[38;5;132;01m{\u001b[39;00marray_2\u001b[38;5;241m.\u001b[39mshape\u001b[38;5;132;01m}\u001b[39;00m\u001b[38;5;124m\"\u001b[39m)\n\u001b[1;32m----> 5\u001b[0m \u001b[38;5;28mprint\u001b[39m(\u001b[38;5;124mf\u001b[39m\u001b[38;5;124m\"\u001b[39m\u001b[38;5;124marray_1 * array_2 =\u001b[39m\u001b[38;5;130;01m\\n\u001b[39;00m\u001b[38;5;132;01m{\u001b[39;00marray_1 \u001b[38;5;241m*\u001b[39m array_2\u001b[38;5;132;01m}\u001b[39;00m\u001b[38;5;124m\"\u001b[39m)\n",
      "\u001b[1;31mValueError\u001b[0m: operands could not be broadcast together with shapes (6,5) (2,5) "
     ]
    }
   ],
   "source": [
    "# how broadcasting does not work!\n",
    "array_2 = np.random.random((2, 5))\n",
    "print(f\"array_1: {array_1.shape}\")\n",
    "print(f\"array_2: {array_2.shape}\")\n",
    "print(f\"array_1 * array_2 =\\n{array_1 * array_2}\")"
   ]
  },
  {
   "cell_type": "code",
   "execution_count": 73,
   "id": "5ca3dd48",
   "metadata": {},
   "outputs": [
    {
     "name": "stdout",
     "output_type": "stream",
     "text": [
      "array:\n",
      "[[1]\n",
      " [2]\n",
      " [3]\n",
      " [4]\n",
      " [5]\n",
      " [6]]\n",
      "shape:(6, 1)\n",
      "repeated_array:\n",
      "[[1 1 1 1 1]\n",
      " [2 2 2 2 2]\n",
      " [3 3 3 3 3]\n",
      " [4 4 4 4 4]\n",
      " [5 5 5 5 5]\n",
      " [6 6 6 6 6]]\n",
      "shape:(6, 5)\n"
     ]
    }
   ],
   "source": [
    "# repeat\n",
    "array = np.array([[1, 2, 3, 4, 5, 6]]).reshape(6, 1)\n",
    "print(f\"array:\\n{array}\\nshape:{array.shape}\")\n",
    "\n",
    "\n",
    "repeated_array = np.repeat(array, 5, axis=1)\n",
    "print(f\"repeated_array:\\n{repeated_array}\\nshape:{repeated_array.shape}\")"
   ]
  },
  {
   "cell_type": "markdown",
   "id": "f48c6d77",
   "metadata": {},
   "source": [
    "## Where"
   ]
  },
  {
   "cell_type": "code",
   "execution_count": 52,
   "id": "82a8f5e4",
   "metadata": {},
   "outputs": [
    {
     "name": "stdout",
     "output_type": "stream",
     "text": [
      "unicode_array:\n",
      "[['1' '2' '3' 'foo']\n",
      " ['2' '3' '4' 'bar']\n",
      " ['5' '6' '7' 'hello']\n",
      " ['8' '9' '1' 'bar']], dtype: <U11, shape: (4, 4)\n"
     ]
    }
   ],
   "source": [
    "unicode_array = np.array([[1, 2, 3, 'foo'],\n",
    "                          [2, 3, 4, 'bar'],\n",
    "                          [5, 6, 7, 'hello'],\n",
    "                          [8, 9, 1, 'bar'],\n",
    "                         ])\n",
    "print(f\"unicode_array:\\n{unicode_array}, dtype: {unicode_array.dtype}, shape: {unicode_array.shape}\")"
   ]
  },
  {
   "cell_type": "code",
   "execution_count": 56,
   "id": "35aaf161",
   "metadata": {},
   "outputs": [
    {
     "name": "stdout",
     "output_type": "stream",
     "text": [
      "rows: [1 3]\n",
      "cols: [3 3]\n"
     ]
    }
   ],
   "source": [
    "rows , cols = np.where(unicode_array == 'bar')\n",
    "print(f\"rows: {rows}\")\n",
    "print(f\"cols: {cols}\")"
   ]
  },
  {
   "cell_type": "code",
   "execution_count": 58,
   "id": "1608f4e6",
   "metadata": {},
   "outputs": [
    {
     "name": "stdout",
     "output_type": "stream",
     "text": [
      "rows: [0 1 1 2 2 2 3 3]\n",
      "cols: [2 1 2 0 1 2 0 1]\n"
     ]
    }
   ],
   "source": [
    "array = np.array([[1, 2, 3],\n",
    "                  [2, 3, 4],\n",
    "                  [5, 6, 7],\n",
    "                  [8, 9, 1],\n",
    "                ])\n",
    "rows , cols = np.where(array > 2)\n",
    "print(f\"rows: {rows}\")\n",
    "print(f\"cols: {cols}\")"
   ]
  },
  {
   "cell_type": "markdown",
   "id": "9fc15662",
   "metadata": {},
   "source": [
    "## DateTime"
   ]
  },
  {
   "cell_type": "code",
   "execution_count": 59,
   "id": "d22ad131",
   "metadata": {},
   "outputs": [
    {
     "name": "stdout",
     "output_type": "stream",
     "text": [
      "date: 2022\n"
     ]
    }
   ],
   "source": [
    "# year\n",
    "date = np.datetime64('2022')\n",
    "print(f\"date: {date}\")"
   ]
  },
  {
   "cell_type": "code",
   "execution_count": 60,
   "id": "d104da85",
   "metadata": {},
   "outputs": [
    {
     "name": "stdout",
     "output_type": "stream",
     "text": [
      "date: 2022-08\n"
     ]
    }
   ],
   "source": [
    "# month\n",
    "date = np.datetime64('2022-08')\n",
    "print(f\"date: {date}\")"
   ]
  },
  {
   "cell_type": "code",
   "execution_count": 61,
   "id": "ced87616",
   "metadata": {},
   "outputs": [
    {
     "name": "stdout",
     "output_type": "stream",
     "text": [
      "date: 2022-08-06\n"
     ]
    }
   ],
   "source": [
    "# day\n",
    "date = np.datetime64('2022-08-06')\n",
    "print(f\"date: {date}\")"
   ]
  },
  {
   "cell_type": "code",
   "execution_count": 62,
   "id": "63dfdafa",
   "metadata": {},
   "outputs": [
    {
     "name": "stdout",
     "output_type": "stream",
     "text": [
      "date_time: 2022-08-06T20:30:00\n"
     ]
    }
   ],
   "source": [
    "# datetime\n",
    "date_time = np.datetime64('2022-08-06 20:30:00')\n",
    "print(f\"date_time: {date_time}\")"
   ]
  },
  {
   "cell_type": "code",
   "execution_count": 63,
   "id": "77eb1011",
   "metadata": {},
   "outputs": [
    {
     "data": {
      "text/plain": [
       "True"
      ]
     },
     "execution_count": 63,
     "metadata": {},
     "output_type": "execute_result"
    }
   ],
   "source": [
    "# comparison\n",
    "np.datetime64('2022-01-01') < np.datetime64('2022-04-03')"
   ]
  },
  {
   "cell_type": "code",
   "execution_count": 64,
   "id": "fe47adf9",
   "metadata": {},
   "outputs": [
    {
     "data": {
      "text/plain": [
       "numpy.timedelta64(92,'D')"
      ]
     },
     "execution_count": 64,
     "metadata": {},
     "output_type": "execute_result"
    }
   ],
   "source": [
    "# subtraction\n",
    "np.datetime64('2022-04-03') - np.datetime64('2022-01-01')"
   ]
  },
  {
   "cell_type": "code",
   "execution_count": 65,
   "id": "bafd35dd",
   "metadata": {},
   "outputs": [
    {
     "data": {
      "text/plain": [
       "numpy.datetime64('2022-08-07T01:30:00')"
      ]
     },
     "execution_count": 65,
     "metadata": {},
     "output_type": "execute_result"
    }
   ],
   "source": [
    "# time delta\n",
    "np.datetime64('2022-08-06 20:30:00') + np.timedelta64(5, 'h')"
   ]
  },
  {
   "cell_type": "code",
   "execution_count": 67,
   "id": "5020a1eb",
   "metadata": {},
   "outputs": [
    {
     "data": {
      "text/plain": [
       "array(['2022-02-01', '2022-02-02', '2022-02-03', '2022-02-04',\n",
       "       '2022-02-05', '2022-02-06', '2022-02-07', '2022-02-08',\n",
       "       '2022-02-09', '2022-02-10', '2022-02-11', '2022-02-12',\n",
       "       '2022-02-13', '2022-02-14', '2022-02-15', '2022-02-16',\n",
       "       '2022-02-17', '2022-02-18', '2022-02-19', '2022-02-20',\n",
       "       '2022-02-21', '2022-02-22', '2022-02-23', '2022-02-24',\n",
       "       '2022-02-25', '2022-02-26', '2022-02-27', '2022-02-28'],\n",
       "      dtype='datetime64[D]')"
      ]
     },
     "execution_count": 67,
     "metadata": {},
     "output_type": "execute_result"
    }
   ],
   "source": [
    "# date time range\n",
    "date_time_range = np.arange(np.datetime64('2022-02-01'), np.datetime64('2022-03-01'))\n",
    "date_time_range"
   ]
  },
  {
   "cell_type": "markdown",
   "id": "1a9297a0",
   "metadata": {},
   "source": [
    "## Save & Load"
   ]
  },
  {
   "cell_type": "code",
   "execution_count": 76,
   "id": "2a3fb19d",
   "metadata": {},
   "outputs": [
    {
     "name": "stdout",
     "output_type": "stream",
     "text": [
      "array:\n",
      "[[6 7]\n",
      " [3 5]\n",
      " [1 3]\n",
      " [1 8]\n",
      " [0 9]]\n"
     ]
    }
   ],
   "source": [
    "array = np.random.randint(0, high=10, size=(5, 2))\n",
    "print(f\"array:\\n{array}\")\n",
    "np.save('array.npy', array)"
   ]
  },
  {
   "cell_type": "code",
   "execution_count": 77,
   "id": "b8f986b4",
   "metadata": {},
   "outputs": [
    {
     "data": {
      "text/plain": [
       "array([[6, 7],\n",
       "       [3, 5],\n",
       "       [1, 3],\n",
       "       [1, 8],\n",
       "       [0, 9]])"
      ]
     },
     "execution_count": 77,
     "metadata": {},
     "output_type": "execute_result"
    }
   ],
   "source": [
    "loaded_array = np.load('array.npy')\n",
    "loaded_array"
   ]
  },
  {
   "cell_type": "code",
   "execution_count": 78,
   "id": "ec178cc9",
   "metadata": {},
   "outputs": [
    {
     "name": "stdout",
     "output_type": "stream",
     "text": [
      "Are both arrays the same: True\n"
     ]
    }
   ],
   "source": [
    "print(f\"Are both arrays the same: {np.all(loaded_array == array)}\")"
   ]
  },
  {
   "cell_type": "markdown",
   "id": "93c99210",
   "metadata": {},
   "source": [
    "*:)*"
   ]
  }
 ],
 "metadata": {
  "kernelspec": {
   "display_name": "Python 3 (ipykernel)",
   "language": "python",
   "name": "python3"
  },
  "language_info": {
   "codemirror_mode": {
    "name": "ipython",
    "version": 3
   },
   "file_extension": ".py",
   "mimetype": "text/x-python",
   "name": "python",
   "nbconvert_exporter": "python",
   "pygments_lexer": "ipython3",
   "version": "3.10.4"
  }
 },
 "nbformat": 4,
 "nbformat_minor": 5
}
