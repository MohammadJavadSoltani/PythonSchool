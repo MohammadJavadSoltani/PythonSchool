{
 "cells": [
  {
   "cell_type": "markdown",
   "metadata": {},
   "source": [
    "1. Take a list, say for example this one:\n",
    "\n",
    "a = [1, 1, 2, 3, 5, 8, 13, 21, 34, 55, 89]\n",
    "\n",
    "and write a program that prints out all the elements of the list that are less than 5.\n",
    "\n",
    "Extras:\n",
    "\n",
    "* Instead of printing the elements one by one, make a new list that has all the elements less than 5 from this list in it and print out this new list.\n",
    "* Write this in one line of Python."
   ]
  },
  {
   "cell_type": "code",
   "execution_count": 6,
   "metadata": {},
   "outputs": [
    {
     "name": "stdout",
     "output_type": "stream",
     "text": [
      "Enter a list of numbers: [1, 5, 6, 9, 11, 12, 32, 0, 0.5, 1.2, 15, 11.2, 3.2]\n",
      "[1, 5, 6, 9, 11, 12, 32, 0, 0.5, 1.2, 15, 11.2, 3.2]\n"
     ]
    }
   ],
   "source": [
    "lst_str = input('Enter a list of numbers: ')\n",
    "print(lst_str)"
   ]
  },
  {
   "cell_type": "code",
   "execution_count": 14,
   "metadata": {},
   "outputs": [],
   "source": [
    "# s = 'I am a teacher. I work in a school.'\n",
    "# s.split(' ')\n",
    "\n",
    "lst = lst_str[1:-1].split(', ')"
   ]
  },
  {
   "cell_type": "code",
   "execution_count": 16,
   "metadata": {},
   "outputs": [
    {
     "name": "stdout",
     "output_type": "stream",
     "text": [
      "[1.0, 5.0, 6.0, 9.0, 11.0, 12.0, 32.0, 0.0, 0.5, 1.2, 15.0, 11.2, 3.2]\n",
      "[1.0, 0.0, 0.5, 1.2, 3.2]\n"
     ]
    }
   ],
   "source": [
    "lst_num = []\n",
    "lst_num_lt_5 = []\n",
    "for s in lst:\n",
    "    lst_num.append(float(s))\n",
    "    \n",
    "    if float(s) < 5:\n",
    "        lst_num_lt_5.append(float(s))\n",
    "\n",
    "print(lst_num)\n",
    "print(lst_num_lt_5)"
   ]
  },
  {
   "cell_type": "code",
   "execution_count": 18,
   "metadata": {},
   "outputs": [
    {
     "name": "stdout",
     "output_type": "stream",
     "text": [
      "Enter a list[1, 5, 6, 9, 11, 12, 32, 0, 0.5, 1.2, 15, 11.2, 3.2]\n",
      "[1.0, 0.0, 0.5, 1.2, 3.2]\n"
     ]
    }
   ],
   "source": [
    "lst_str = input('Enter a list')\n",
    "lst_num = [float(i) for i in lst_str[1:-1].split(', ') if float(i) < 5]\n",
    "\n",
    "print(lst_num)"
   ]
  },
  {
   "cell_type": "markdown",
   "metadata": {},
   "source": [
    "2. Make a two-player Rock-Paper-Scissors game. (Hint: Ask for player plays (using input), compare them, print out a message of congratulations to the winner, and ask if the players want to start a new game)\n",
    "\n",
    "Remember the rules:\n",
    "\n",
    "* Rock beats scissors\n",
    "* Scissors beats paper\n",
    "* Paper beats rock"
   ]
  },
  {
   "cell_type": "code",
   "execution_count": 20,
   "metadata": {},
   "outputs": [],
   "source": [
    "import numpy as np"
   ]
  },
  {
   "cell_type": "code",
   "execution_count": 58,
   "metadata": {},
   "outputs": [
    {
     "name": "stdout",
     "output_type": "stream",
     "text": [
      "Play a hand (Rock, Paper, Scissors): Scissors\n",
      "Your choice is \"Scissors\", computer played \"Paper\"\n",
      "You won!\n",
      "Do you still want to play?1\n",
      "Play a hand (Rock, Paper, Scissors): Scissors\n",
      "Your choice is \"Scissors\", computer played \"Scissors\"\n",
      "You played the same.\n",
      "Do you still want to play?1\n",
      "Play a hand (Rock, Paper, Scissors): Scissors\n",
      "Your choice is \"Scissors\", computer played \"Rock\"\n",
      "Computer won!\n",
      "Do you still want to play?1\n",
      "Play a hand (Rock, Paper, Scissors): Paper\n",
      "Your choice is \"Paper\", computer played \"Rock\"\n",
      "You won!\n",
      "Do you still want to play?1\n",
      "Play a hand (Rock, Paper, Scissors): Rock\n",
      "Your choice is \"Rock\", computer played \"Paper\"\n",
      "Computer won!\n",
      "Do you still want to play?\n",
      "You 2 vs. Computer 2\n"
     ]
    }
   ],
   "source": [
    "opts = ['Rock', 'Scissors', 'Paper']\n",
    "\n",
    "computer_wins = 0\n",
    "player_wins = 0\n",
    "\n",
    "new_game = 1\n",
    "while new_game:\n",
    "    computer = opts[np.random.randint(low=1, high=4)-1]\n",
    "    player = input('Play a hand (Rock, Paper, Scissors): ')\n",
    "    \n",
    "    print('Your choice is \"{0}\", computer played \"{1}\"'.format(player, computer))\n",
    "    \n",
    "    if player == computer:\n",
    "        print('You played the same.')\n",
    "    elif (player == 'Rock') and (computer == 'Scissors'):\n",
    "        print('You won!')\n",
    "        player_wins += 1\n",
    "    elif (player == 'Paper') and (computer == 'Rock'):\n",
    "        print('You won!')\n",
    "        player_wins += 1\n",
    "    elif (player == 'Scissors') and (computer == 'Paper'):\n",
    "        print('You won!')\n",
    "        player_wins += 1\n",
    "    else:\n",
    "        print('Computer won!')\n",
    "        computer_wins += 1\n",
    "    \n",
    "    new_game = input('Do you still want to play?')\n",
    "    \n",
    "print('You {0} vs. Computer {1}'.format(player_wins, computer_wins))"
   ]
  },
  {
   "cell_type": "markdown",
   "metadata": {},
   "source": [
    "3. Write a program that asks the user how many Fibonnaci numbers to generate and then generates them. Take this opportunity to think about how you can use functions. Make sure to ask the user to enter the number of numbers in the sequence to generate.*(Hint: The Fibonnaci seqence is a sequence of numbers where the next number in the sequence is the sum of the previous two numbers in the sequence. The sequence looks like this: 1, 1, 2, 3, 5, 8, 13, …)*"
   ]
  },
  {
   "cell_type": "code",
   "execution_count": 64,
   "metadata": {},
   "outputs": [
    {
     "name": "stdout",
     "output_type": "stream",
     "text": [
      "Enter how many elements of Fibonnaci you want: 10\n",
      "1\n",
      "1\n",
      "2\n",
      "3\n",
      "5\n",
      "8\n",
      "13\n",
      "21\n",
      "34\n",
      "55\n"
     ]
    }
   ],
   "source": [
    "# 1, 1, 2, 3, 5, 8, 13, 21, 34, ...\n",
    "number_of_elements = int(input('Enter how many elements of Fibonnaci you want: '))\n",
    "\n",
    "a1 = 1\n",
    "a2 = 1\n",
    "print(a1)\n",
    "print(a2)\n",
    "\n",
    "for i in range(number_of_elements - 2):\n",
    "    a3 = a2 + a1\n",
    "    a1 = a2\n",
    "    a2 = a3\n",
    "    print(a3)"
   ]
  },
  {
   "cell_type": "markdown",
   "metadata": {},
   "source": [
    "4. Check a pre-defined password with user inputs for 3 times; let them pass if their correct with less than 4 tries.\n",
    "\n",
    "Links for more exercises:\n",
    "\n",
    "https://www.practicepython.org/\n",
    "\n",
    "https://www.w3resource.com/python-exercises/\n"
   ]
  },
  {
   "cell_type": "code",
   "execution_count": 3,
   "metadata": {},
   "outputs": [
    {
     "name": "stdout",
     "output_type": "stream",
     "text": [
      "Enter password:  sdfgdfg\n",
      "Enter password:  dfgdfg\n",
      "Enter password:  dfgdfg\n",
      "You are blocked.\n"
     ]
    }
   ],
   "source": [
    "password = '4P&6Gx91Su'\n",
    "tries = 0\n",
    "\n",
    "while tries < 3:\n",
    "    PASS = input('Enter password:  ')\n",
    "    \n",
    "    if PASS == password:\n",
    "        print('You are successfully logged in.')\n",
    "        break\n",
    "    else:\n",
    "        tries += 1\n",
    "    if tries == 3:\n",
    "        print('You are blocked.')"
   ]
  },
  {
   "cell_type": "markdown",
   "metadata": {},
   "source": [
    "# Exercise\n",
    "1. Write a python program to detect integer numbers in a list of strings and cast them to int and print them\n",
    "\n",
    "example: \n",
    "input: lst = ['11', 'pooya', '10', '10.5']\n",
    "\n",
    "result: 11 10\n",
    "\n",
    "note: in this exercise you are not allowed to use:\n",
    "\n",
    "try except, str.isdecimal, \n",
    "\n",
    "just use: for while True False if ... "
   ]
  },
  {
   "cell_type": "code",
   "execution_count": null,
   "metadata": {},
   "outputs": [],
   "source": [
    "# answer"
   ]
  },
  {
   "cell_type": "markdown",
   "metadata": {},
   "source": [
    "2. Write a Python program to print all even numbers from a given numbers list in the same order and stop the printing if any numbers that come after 237 in the sequence. Go to the editor\n",
    "Sample numbers list :\n",
    "\n",
    "numbers = [386, 462, 47, 418, 907, 344, 236, 375, 823, 566, 597, 978, 328, 615, 953, 345, \n",
    "    399, 162, 758, 219, 918, 237, 412, 566, 826, 248, 866, 950, 626, 949, 687, 217, \n",
    "    815, 67, 104, 58, 512, 24, 892, 894, 767, 553, 81, 379, 843, 831, 445, 742, 717, \n",
    "    958,743, 527\n",
    "    ]\n"
   ]
  },
  {
   "cell_type": "code",
   "execution_count": null,
   "metadata": {},
   "outputs": [],
   "source": [
    "# answer"
   ]
  },
  {
   "cell_type": "markdown",
   "metadata": {},
   "source": [
    "3.Write a Python program to sum of two given integers. However, if the sum is between 15 to 20 it will return 20."
   ]
  },
  {
   "cell_type": "code",
   "execution_count": null,
   "metadata": {},
   "outputs": [],
   "source": [
    "# answer"
   ]
  },
  {
   "cell_type": "markdown",
   "metadata": {},
   "source": [
    "4. Write a Python program to count the members of a list and print them\n",
    "\n",
    "example = [1,5,6,1,1,'s','s','pooya']\n",
    "\n",
    "res:\n",
    "\n",
    "        1 >>> 3\n",
    "        \n",
    "        5 >>> 1\n",
    "        \n",
    "        6 >>> 1\n",
    "        \n",
    "        's' >>> 2\n",
    "        \n",
    "        'pooya' >>> 1\n",
    "\n",
    "note: in this exercise you are not allowed to use:\n",
    "collection.Counter, np.unique and ...\n",
    "just use for, while, True, False"
   ]
  },
  {
   "cell_type": "code",
   "execution_count": null,
   "metadata": {},
   "outputs": [],
   "source": [
    "# answer"
   ]
  }
 ],
 "metadata": {
  "kernelspec": {
   "display_name": "Python 3 (ipykernel)",
   "language": "python",
   "name": "python3"
  },
  "language_info": {
   "codemirror_mode": {
    "name": "ipython",
    "version": 3
   },
   "file_extension": ".py",
   "mimetype": "text/x-python",
   "name": "python",
   "nbconvert_exporter": "python",
   "pygments_lexer": "ipython3",
   "version": "3.10.4"
  }
 },
 "nbformat": 4,
 "nbformat_minor": 2
}
