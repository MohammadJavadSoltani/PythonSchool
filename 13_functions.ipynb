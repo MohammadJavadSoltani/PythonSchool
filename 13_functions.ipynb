{
 "cells": [
  {
   "cell_type": "markdown",
   "metadata": {},
   "source": [
    "## functions"
   ]
  },
  {
   "cell_type": "code",
   "execution_count": 7,
   "metadata": {},
   "outputs": [],
   "source": [
    "# f(x), f(x,y), g(h)\n",
    "# simple function\n",
    "\n",
    "\n",
    "# f(x, y) = x^y\n",
    "# f(x) = x^2\n",
    "def get_power(num, to_power):\n",
    "    num = float(num)\n",
    "    return num ** to_power"
   ]
  },
  {
   "cell_type": "code",
   "execution_count": null,
   "metadata": {},
   "outputs": [],
   "source": [
    "#f(5, 3) = 5 ^ 3"
   ]
  },
  {
   "cell_type": "code",
   "execution_count": 12,
   "metadata": {},
   "outputs": [
    {
     "name": "stdout",
     "output_type": "stream",
     "text": [
      "20736.0\n"
     ]
    }
   ],
   "source": [
    "# call function\n",
    "a = get_power(12, 4)\n",
    "print(a)"
   ]
  },
  {
   "cell_type": "code",
   "execution_count": 19,
   "metadata": {},
   "outputs": [],
   "source": [
    "def no_return(statement):\n",
    "    print(statement)\n",
    "#     return statement"
   ]
  },
  {
   "cell_type": "code",
   "execution_count": 20,
   "metadata": {},
   "outputs": [
    {
     "name": "stdout",
     "output_type": "stream",
     "text": [
      "hello_world\n"
     ]
    }
   ],
   "source": [
    "no_return('hello_world')"
   ]
  },
  {
   "cell_type": "code",
   "execution_count": 21,
   "metadata": {},
   "outputs": [
    {
     "name": "stdout",
     "output_type": "stream",
     "text": [
      "hello_world\n",
      "result is: None\n"
     ]
    }
   ],
   "source": [
    "result = no_return('hello_world')\n",
    "print('result is:', result)"
   ]
  },
  {
   "cell_type": "markdown",
   "metadata": {},
   "source": [
    "### function arguments"
   ]
  },
  {
   "cell_type": "code",
   "execution_count": 27,
   "metadata": {},
   "outputs": [],
   "source": [
    "def add(var_1, var_2):\n",
    "    print(f'var_1: {var_1} ----')\n",
    "    print(f'var_2: {var_2} ----')\n",
    "    print('Today is sunny.')\n",
    "    return var_1 + var_2"
   ]
  },
  {
   "cell_type": "code",
   "execution_count": 23,
   "metadata": {},
   "outputs": [
    {
     "ename": "TypeError",
     "evalue": "add() missing 1 required positional argument: 'var_2'",
     "output_type": "error",
     "traceback": [
      "\u001b[1;31m---------------------------------------------------------------------------\u001b[0m",
      "\u001b[1;31mTypeError\u001b[0m                                 Traceback (most recent call last)",
      "Input \u001b[1;32mIn [23]\u001b[0m, in \u001b[0;36m<cell line: 1>\u001b[1;34m()\u001b[0m\n\u001b[1;32m----> 1\u001b[0m var \u001b[38;5;241m=\u001b[39m \u001b[43madd\u001b[49m\u001b[43m(\u001b[49m\u001b[38;5;241;43m10\u001b[39;49m\u001b[43m)\u001b[49m\n\u001b[0;32m      2\u001b[0m var\n",
      "\u001b[1;31mTypeError\u001b[0m: add() missing 1 required positional argument: 'var_2'"
     ]
    }
   ],
   "source": [
    "var = add(10)\n",
    "var"
   ]
  },
  {
   "cell_type": "code",
   "execution_count": 28,
   "metadata": {},
   "outputs": [
    {
     "name": "stdout",
     "output_type": "stream",
     "text": [
      "var_1: 10 ----\n",
      "var_2: 20 ----\n",
      "Today is sunny.\n"
     ]
    },
    {
     "data": {
      "text/plain": [
       "30"
      ]
     },
     "execution_count": 28,
     "metadata": {},
     "output_type": "execute_result"
    }
   ],
   "source": [
    "var = add(10, 20)\n",
    "var"
   ]
  },
  {
   "cell_type": "code",
   "execution_count": 30,
   "metadata": {},
   "outputs": [
    {
     "name": "stdout",
     "output_type": "stream",
     "text": [
      "var_1: 15 ----\n",
      "var_2: 31 ----\n",
      "Today is sunny.\n"
     ]
    },
    {
     "data": {
      "text/plain": [
       "46"
      ]
     },
     "execution_count": 30,
     "metadata": {},
     "output_type": "execute_result"
    }
   ],
   "source": [
    "var = add(var_1=15, var_2=31)\n",
    "var"
   ]
  },
  {
   "cell_type": "code",
   "execution_count": 31,
   "metadata": {},
   "outputs": [
    {
     "name": "stdout",
     "output_type": "stream",
     "text": [
      "var_1: 10 ----\n",
      "var_2: 20 ----\n",
      "Today is sunny.\n"
     ]
    },
    {
     "data": {
      "text/plain": [
       "30"
      ]
     },
     "execution_count": 31,
     "metadata": {},
     "output_type": "execute_result"
    }
   ],
   "source": [
    "var = add(var_2=20, var_1=10)\n",
    "var"
   ]
  },
  {
   "cell_type": "code",
   "execution_count": null,
   "metadata": {},
   "outputs": [],
   "source": [
    "add # (Shift + Tab)"
   ]
  },
  {
   "cell_type": "markdown",
   "metadata": {},
   "source": [
    "#### default arguments"
   ]
  },
  {
   "cell_type": "code",
   "execution_count": 51,
   "metadata": {},
   "outputs": [],
   "source": [
    "def add(var_1, var_2=5):\n",
    "    print(f'var_1 is {var_1}')\n",
    "    print(f'var_2 is {var_2}')\n",
    "    return var_1 + var_2"
   ]
  },
  {
   "cell_type": "code",
   "execution_count": 35,
   "metadata": {},
   "outputs": [
    {
     "name": "stdout",
     "output_type": "stream",
     "text": [
      "var_1 is 36\n",
      "var_2 is 5\n"
     ]
    },
    {
     "data": {
      "text/plain": [
       "41"
      ]
     },
     "execution_count": 35,
     "metadata": {},
     "output_type": "execute_result"
    }
   ],
   "source": [
    "add(var_1=15)"
   ]
  },
  {
   "cell_type": "code",
   "execution_count": 36,
   "metadata": {},
   "outputs": [
    {
     "name": "stdout",
     "output_type": "stream",
     "text": [
      "var_1 is 1\n",
      "var_2 is 15\n"
     ]
    },
    {
     "data": {
      "text/plain": [
       "16"
      ]
     },
     "execution_count": 36,
     "metadata": {},
     "output_type": "execute_result"
    }
   ],
   "source": [
    "add(1, 15)"
   ]
  },
  {
   "cell_type": "code",
   "execution_count": 40,
   "metadata": {},
   "outputs": [
    {
     "name": "stdout",
     "output_type": "stream",
     "text": [
      "var_1 is 5\n",
      "var_2 is 4\n"
     ]
    },
    {
     "data": {
      "text/plain": [
       "9"
      ]
     },
     "execution_count": 40,
     "metadata": {},
     "output_type": "execute_result"
    }
   ],
   "source": [
    "add(var_2=4, var_1=5)"
   ]
  },
  {
   "cell_type": "code",
   "execution_count": 43,
   "metadata": {},
   "outputs": [
    {
     "name": "stdout",
     "output_type": "stream",
     "text": [
      "res:  None\n"
     ]
    }
   ],
   "source": [
    "def add(var_1, var_2=5):\n",
    "    var_3 = var_1 + var_2\n",
    "    \n",
    "res = add(var_1=5)\n",
    "print('res: ', res)"
   ]
  },
  {
   "cell_type": "markdown",
   "metadata": {},
   "source": [
    "## *args and **kwargs in Python\n",
    "\n",
    "### *args"
   ]
  },
  {
   "cell_type": "code",
   "execution_count": 45,
   "metadata": {},
   "outputs": [
    {
     "name": "stdout",
     "output_type": "stream",
     "text": [
      "<class 'tuple'>\n",
      "hello\n",
      "dear\n",
      "friends\n",
      "pooya\n",
      "menoo\n",
      "1\n",
      "5\n",
      "a\n",
      "[5, 2]\n"
     ]
    }
   ],
   "source": [
    "def func(*argv): \n",
    "    print(type(argv))\n",
    "    for arg in argv:  \n",
    "        print(arg)\n",
    "func('hello', 'dear', 'friends', 'pooya', 'menoo', 1, 5, 'a', [5, 2]) "
   ]
  },
  {
   "cell_type": "code",
   "execution_count": 48,
   "metadata": {},
   "outputs": [
    {
     "data": {
      "text/plain": [
       "28"
      ]
     },
     "execution_count": 48,
     "metadata": {},
     "output_type": "execute_result"
    }
   ],
   "source": [
    "def sum_(*argv):\n",
    "    sum = 0\n",
    "    for arg in argv:\n",
    "        sum += arg\n",
    "    return sum    \n",
    "sum_(0,10,3,6,9)"
   ]
  },
  {
   "cell_type": "code",
   "execution_count": 49,
   "metadata": {},
   "outputs": [
    {
     "name": "stdout",
     "output_type": "stream",
     "text": [
      "First argument : Hello\n",
      "Next argument through *argv : Welcome\n",
      "Next argument through *argv : to\n",
      "Next argument through *argv : python_dm\n"
     ]
    }
   ],
   "source": [
    "def func(arg_1, *argv): \n",
    "    print (\"First argument :\", arg_1) \n",
    "    for arg in argv: \n",
    "        print(\"Next argument through *argv :\", arg) \n",
    "func('Hello', 'Welcome', 'to', 'python_dm') "
   ]
  },
  {
   "cell_type": "code",
   "execution_count": 55,
   "metadata": {
    "scrolled": true
   },
   "outputs": [
    {
     "name": "stdout",
     "output_type": "stream",
     "text": [
      "<class 'dict'>\n",
      "first == python\n",
      "mid == dm\n",
      "last == kntu\n"
     ]
    },
    {
     "ename": "TypeError",
     "evalue": "func() takes 0 positional arguments but 3 were given",
     "output_type": "error",
     "traceback": [
      "\u001b[1;31m---------------------------------------------------------------------------\u001b[0m",
      "\u001b[1;31mTypeError\u001b[0m                                 Traceback (most recent call last)",
      "Input \u001b[1;32mIn [55]\u001b[0m, in \u001b[0;36m<cell line: 6>\u001b[1;34m()\u001b[0m\n\u001b[0;32m      4\u001b[0m         \u001b[38;5;28mprint\u001b[39m (\u001b[38;5;124m\"\u001b[39m\u001b[38;5;132;01m%s\u001b[39;00m\u001b[38;5;124m == \u001b[39m\u001b[38;5;132;01m%s\u001b[39;00m\u001b[38;5;124m\"\u001b[39m \u001b[38;5;241m%\u001b[39m(key, value)) \n\u001b[0;32m      5\u001b[0m func(first \u001b[38;5;241m=\u001b[39m\u001b[38;5;124m'\u001b[39m\u001b[38;5;124mpython\u001b[39m\u001b[38;5;124m'\u001b[39m, mid \u001b[38;5;241m=\u001b[39m\u001b[38;5;124m'\u001b[39m\u001b[38;5;124mdm\u001b[39m\u001b[38;5;124m'\u001b[39m, last\u001b[38;5;241m=\u001b[39m\u001b[38;5;124m'\u001b[39m\u001b[38;5;124mkntu\u001b[39m\u001b[38;5;124m'\u001b[39m) \n\u001b[1;32m----> 6\u001b[0m \u001b[43mfunc\u001b[49m\u001b[43m(\u001b[49m\u001b[38;5;124;43m'\u001b[39;49m\u001b[38;5;124;43mpython\u001b[39;49m\u001b[38;5;124;43m'\u001b[39;49m\u001b[43m,\u001b[49m\u001b[43m \u001b[49m\u001b[38;5;124;43m'\u001b[39;49m\u001b[38;5;124;43mdm\u001b[39;49m\u001b[38;5;124;43m'\u001b[39;49m\u001b[43m,\u001b[49m\u001b[43m \u001b[49m\u001b[38;5;124;43m'\u001b[39;49m\u001b[38;5;124;43mkntu\u001b[39;49m\u001b[38;5;124;43m'\u001b[39;49m\u001b[43m)\u001b[49m\n",
      "\u001b[1;31mTypeError\u001b[0m: func() takes 0 positional arguments but 3 were given"
     ]
    }
   ],
   "source": [
    "def func(**kwargs):  \n",
    "    print(type(kwargs))\n",
    "    for key, value in kwargs.items(): \n",
    "        print (\"%s == %s\" %(key, value)) \n",
    "func(first ='python', mid ='dm', last='kntu') \n",
    "# ERROR: func('python', 'dm', 'kntu') "
   ]
  },
  {
   "cell_type": "code",
   "execution_count": 60,
   "metadata": {},
   "outputs": [
    {
     "name": "stdout",
     "output_type": "stream",
     "text": [
      "15\n",
      ":(\n"
     ]
    }
   ],
   "source": [
    "def func(part, **kwargs):\n",
    "    if part == 'first':\n",
    "        result = kwargs['first']\n",
    "    elif part == 'second':\n",
    "        result = kwargs['second']\n",
    "    elif part == 'third':\n",
    "        result = kwargs['third']\n",
    "    else:\n",
    "        result = ':('\n",
    "    print(result)\n",
    "func('second', second=15)\n",
    "func('arbitrary', second=15)"
   ]
  },
  {
   "cell_type": "code",
   "execution_count": 61,
   "metadata": {},
   "outputs": [
    {
     "name": "stdout",
     "output_type": "stream",
     "text": [
      "First argument : hi\n",
      "Next argument through *argv : there\n",
      "Next argument through *argv : python\n",
      "\n",
      " Kwarg arguments:\n",
      "name == pooya\n",
      "kidding == yeah\n"
     ]
    }
   ],
   "source": [
    "def func(arg_1, *argv, **kwargs): \n",
    "    print (\"First argument :\", arg_1) \n",
    "    for arg in argv: \n",
    "        print(\"Next argument through *argv :\", arg)\n",
    "    print('\\n', 'Kwarg arguments:')\n",
    "    for key, value in kwargs.items(): \n",
    "        print (\"%s == %s\" %(key, value)) \n",
    "func('hi', 'there', 'python', name='pooya', kidding='yeah')"
   ]
  },
  {
   "cell_type": "markdown",
   "metadata": {},
   "source": [
    "### Using *args and **kwargs to call a function"
   ]
  },
  {
   "cell_type": "code",
   "execution_count": 62,
   "metadata": {},
   "outputs": [],
   "source": [
    "def func(arg_1, arg_2, arg_3): \n",
    "    print(\"arg_1:\", arg_1) \n",
    "    print(\"arg_2:\", arg_2) \n",
    "    print(\"arg_3:\", arg_3)"
   ]
  },
  {
   "cell_type": "code",
   "execution_count": 63,
   "metadata": {},
   "outputs": [
    {
     "name": "stdout",
     "output_type": "stream",
     "text": [
      "arg_1: python\n",
      "arg_2: dm\n",
      "arg_3: kntu\n"
     ]
    }
   ],
   "source": [
    "args = (\"python\", \"dm\", \"kntu\") \n",
    "func(*args) \n",
    "# ERROR: func(args)\n",
    "# func(\"python\", \"dm\", \"kntu\")"
   ]
  },
  {
   "cell_type": "code",
   "execution_count": 66,
   "metadata": {},
   "outputs": [
    {
     "name": "stdout",
     "output_type": "stream",
     "text": [
      "arg_1: python\n",
      "arg_2: dm\n",
      "arg_3: kntu\n"
     ]
    }
   ],
   "source": [
    "kwargs = {\"arg_1\" : \"python\", \"arg_2\" : \"dm\", \"arg_3\" : \"kntu\"} \n",
    "func(**kwargs) "
   ]
  },
  {
   "cell_type": "code",
   "execution_count": null,
   "metadata": {},
   "outputs": [],
   "source": [
    "func # (Shift + Tab)"
   ]
  },
  {
   "cell_type": "markdown",
   "metadata": {},
   "source": [
    "### doc string"
   ]
  },
  {
   "cell_type": "code",
   "execution_count": 67,
   "metadata": {},
   "outputs": [],
   "source": [
    "def get_power(num, to_power):\n",
    "    \"\"\" \n",
    "    f(x, y) = x ^ y\n",
    "    \n",
    "    (float, int) -> float\n",
    "    Return the exponentioal power of the number\n",
    "    \n",
    "    >>> get_power(1, 10)\n",
    "    1\n",
    "    >>> get_power(2.0, 3)\n",
    "    8.0\n",
    "    \"\"\"\n",
    "    num = float(num)\n",
    "    return num ** to_power"
   ]
  },
  {
   "cell_type": "code",
   "execution_count": null,
   "metadata": {},
   "outputs": [],
   "source": [
    "get_power"
   ]
  },
  {
   "cell_type": "code",
   "execution_count": 68,
   "metadata": {},
   "outputs": [],
   "source": [
    "def get_square_tuple(_tuple):\n",
    "    \"\"\" (tuple) -> tuple\n",
    "    Returns square tuple \n",
    "    \n",
    "    >>> get_square_tuple((1, 2, 3, 5))\n",
    "    (1, 4, 9, 25)\n",
    "    \"\"\"\n",
    "    res = tuple()\n",
    "    for t in _tuple:\n",
    "        res = res + (t**2,)\n",
    "    return res"
   ]
  },
  {
   "cell_type": "code",
   "execution_count": null,
   "metadata": {},
   "outputs": [],
   "source": [
    "get_square_tuple"
   ]
  },
  {
   "cell_type": "code",
   "execution_count": 69,
   "metadata": {},
   "outputs": [
    {
     "name": "stdout",
     "output_type": "stream",
     "text": [
      "**********************************************************************\n",
      "File \"__main__\", line 8, in __main__.get_power\n",
      "Failed example:\n",
      "    get_power(1, 10)\n",
      "Expected:\n",
      "    1\n",
      "Got:\n",
      "    1.0\n",
      "**********************************************************************\n",
      "1 items had failures:\n",
      "   1 of   2 in __main__.get_power\n",
      "***Test Failed*** 1 failures.\n"
     ]
    },
    {
     "data": {
      "text/plain": [
       "TestResults(failed=1, attempted=3)"
      ]
     },
     "execution_count": 69,
     "metadata": {},
     "output_type": "execute_result"
    }
   ],
   "source": [
    "import doctest\n",
    "doctest.testmod()"
   ]
  },
  {
   "cell_type": "code",
   "execution_count": 70,
   "metadata": {},
   "outputs": [
    {
     "name": "stdout",
     "output_type": "stream",
     "text": [
      "Help on function get_square_tuple in module __main__:\n",
      "\n",
      "get_square_tuple(_tuple)\n",
      "    (tuple) -> tuple\n",
      "    Returns square tuple \n",
      "    \n",
      "    >>> get_square_tuple((1, 2, 3, 5))\n",
      "    (1, 4, 9, 25)\n",
      "\n"
     ]
    }
   ],
   "source": [
    "help(get_square_tuple)"
   ]
  },
  {
   "cell_type": "code",
   "execution_count": 71,
   "metadata": {},
   "outputs": [
    {
     "name": "stdout",
     "output_type": "stream",
     "text": [
      "Help on function get_power in module __main__:\n",
      "\n",
      "get_power(num, to_power)\n",
      "    f(x, y) = x ^ y\n",
      "    \n",
      "    (float, int) -> float\n",
      "    Return the exponentioal power of the number\n",
      "    \n",
      "    >>> get_power(1, 10)\n",
      "    1\n",
      "    >>> get_power(2.0, 3)\n",
      "    8.0\n",
      "\n"
     ]
    }
   ],
   "source": [
    "help(get_power)"
   ]
  },
  {
   "cell_type": "markdown",
   "metadata": {
    "collapsed": true
   },
   "source": [
    "*:)*"
   ]
  }
 ],
 "metadata": {
  "kernelspec": {
   "display_name": "Python 3 (ipykernel)",
   "language": "python",
   "name": "python3"
  },
  "language_info": {
   "codemirror_mode": {
    "name": "ipython",
    "version": 3
   },
   "file_extension": ".py",
   "mimetype": "text/x-python",
   "name": "python",
   "nbconvert_exporter": "python",
   "pygments_lexer": "ipython3",
   "version": "3.10.4"
  }
 },
 "nbformat": 4,
 "nbformat_minor": 2
}
