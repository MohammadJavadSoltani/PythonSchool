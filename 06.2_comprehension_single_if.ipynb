{
 "cells": [
  {
   "cell_type": "markdown",
   "metadata": {},
   "source": [
    "### Single line if statement"
   ]
  },
  {
   "cell_type": "code",
   "execution_count": 5,
   "metadata": {},
   "outputs": [
    {
     "name": "stdout",
     "output_type": "stream",
     "text": [
      "10\n"
     ]
    }
   ],
   "source": [
    "val_1 = 10\n",
    "\n",
    "# if val_1 == 1:\n",
    "#     val_2 = 20\n",
    "# else:\n",
    "#     val_2 = 10\n",
    "# print(val_2)\n",
    "\n",
    "# ----------------------------------------------------\n",
    "# if Condition:\n",
    "#     Statement (True)\n",
    "# else:\n",
    "#     Statement (False)\n",
    "\n",
    "# Statement (True) if Condition else Statement (False)\n",
    "# ----------------------------------------------------\n",
    "\n",
    "val_2 = 20 if val_1 == 1 else 10\n",
    "print(val_2)"
   ]
  },
  {
   "cell_type": "code",
   "execution_count": 11,
   "metadata": {},
   "outputs": [
    {
     "name": "stdout",
     "output_type": "stream",
     "text": [
      "val is 10\n"
     ]
    }
   ],
   "source": [
    "# not recommended\n",
    "val = 10\n",
    "\n",
    "if val > 10:\n",
    "    val_2 = 'val is bigger than 10 '\n",
    "else:\n",
    "    if val == 10:\n",
    "        val_2 = 'val is 10'\n",
    "    else:\n",
    "        val_2 = 'val is lower than 10'\n",
    "\n",
    "\n",
    "val_2 = 'val is bigger than 10 ' if val > 10 else 'val is 10' if val == 10 else 'val is lower than 10'\n",
    "print(val_2)"
   ]
  },
  {
   "cell_type": "markdown",
   "metadata": {},
   "source": [
    "## Learning Objectives\n",
    "1. Rewrite loop as comprehension\n",
    "2. Filter items\n",
    "3. Create a dict from a comprehension"
   ]
  },
  {
   "cell_type": "code",
   "execution_count": 12,
   "metadata": {},
   "outputs": [
    {
     "data": {
      "text/plain": [
       "[0, 1, 4, 9, 16, 25, 36, 49, 64, 81]"
      ]
     },
     "execution_count": 12,
     "metadata": {},
     "output_type": "execute_result"
    }
   ],
   "source": [
    "squares = []\n",
    "for i in range(10):\n",
    "    squares.append(i**2)\n",
    "squares"
   ]
  },
  {
   "cell_type": "code",
   "execution_count": 17,
   "metadata": {},
   "outputs": [
    {
     "ename": "SyntaxError",
     "evalue": "invalid syntax (208969486.py, line 1)",
     "output_type": "error",
     "traceback": [
      "\u001b[1;36m  Input \u001b[1;32mIn [17]\u001b[1;36m\u001b[0m\n\u001b[1;33m    i**2 for i in range(10)\u001b[0m\n\u001b[1;37m         ^\u001b[0m\n\u001b[1;31mSyntaxError\u001b[0m\u001b[1;31m:\u001b[0m invalid syntax\n"
     ]
    }
   ],
   "source": [
    "i**2 for i in range(10)"
   ]
  },
  {
   "cell_type": "code",
   "execution_count": 15,
   "metadata": {},
   "outputs": [],
   "source": [
    "squares = [i**2 for i in range(10)]"
   ]
  },
  {
   "cell_type": "code",
   "execution_count": 16,
   "metadata": {},
   "outputs": [
    {
     "data": {
      "text/plain": [
       "[0, 1, 4, 9, 16, 25, 36, 49, 64, 81]"
      ]
     },
     "execution_count": 16,
     "metadata": {},
     "output_type": "execute_result"
    }
   ],
   "source": [
    "squares"
   ]
  },
  {
   "cell_type": "code",
   "execution_count": 19,
   "metadata": {},
   "outputs": [
    {
     "data": {
      "text/plain": [
       "[(0, 0), (3, 27), (6, 216), (9, 729)]"
      ]
     },
     "execution_count": 19,
     "metadata": {},
     "output_type": "execute_result"
    }
   ],
   "source": [
    "squares3 = [(i, i**3) for i in range(10) if i % 3 == 0]\n",
    "squares3"
   ]
  },
  {
   "cell_type": "code",
   "execution_count": 31,
   "metadata": {
    "scrolled": true
   },
   "outputs": [
    {
     "data": {
      "text/plain": [
       "[10,\n",
       " 10,\n",
       " (12, 144),\n",
       " 10,\n",
       " 10,\n",
       " (15, 225),\n",
       " 10,\n",
       " 10,\n",
       " (18, 324),\n",
       " 10,\n",
       " 10,\n",
       " (21, 441),\n",
       " 10,\n",
       " 10,\n",
       " (24, 576),\n",
       " 10,\n",
       " 10,\n",
       " (27, 729),\n",
       " 10,\n",
       " 10]"
      ]
     },
     "execution_count": 31,
     "metadata": {},
     "output_type": "execute_result"
    }
   ],
   "source": [
    "squares3 = [(i, i**2) if i % 3 == 0 else 10 for i in range(10, 30)]\n",
    "# squares3 = [(i, i**2) for i in range(10, 30) if i % 3 == 0]\n",
    "squares3"
   ]
  },
  {
   "cell_type": "code",
   "execution_count": 26,
   "metadata": {},
   "outputs": [
    {
     "data": {
      "text/plain": [
       "{0: 0,\n",
       " 3: 9,\n",
       " 6: 36,\n",
       " 9: 81,\n",
       " 12: 144,\n",
       " 15: 225,\n",
       " 18: 324,\n",
       " 21: 441,\n",
       " 24: 576,\n",
       " 27: 729}"
      ]
     },
     "execution_count": 26,
     "metadata": {},
     "output_type": "execute_result"
    }
   ],
   "source": [
    "# Dict = {key: value, ...}\n",
    "squares_dict = {i: i**2 for i in range(30) if i % 3 == 0}\n",
    "squares_dict"
   ]
  },
  {
   "cell_type": "code",
   "execution_count": null,
   "metadata": {},
   "outputs": [],
   "source": [
    "# create a new dictionary like capitals which the keys and values are replaced(using comprehensions)"
   ]
  },
  {
   "cell_type": "code",
   "execution_count": 32,
   "metadata": {},
   "outputs": [],
   "source": [
    "capitals = {'Iran': 'Tehran','France': 'Paris','Italy': 'Rome'}"
   ]
  },
  {
   "cell_type": "code",
   "execution_count": 36,
   "metadata": {},
   "outputs": [
    {
     "data": {
      "text/plain": [
       "{'Tehran': 'Iran', 'Paris': 'France', 'Rome': 'Italy'}"
      ]
     },
     "execution_count": 36,
     "metadata": {},
     "output_type": "execute_result"
    }
   ],
   "source": [
    "reverse_capitals = {value:key for key,value in capitals.items() }\n",
    "# reverse_capitals = [(value, key) for key,value in capitals.items()]\n",
    "reverse_capitals"
   ]
  },
  {
   "cell_type": "markdown",
   "metadata": {},
   "source": [
    "## Use lots comprehensions!\n",
    "1. Comprehensions are a concise and expressive way to write a data transformation\n",
    "2. They are quick to write, easy to parse, and surprisingly powerful."
   ]
  },
  {
   "cell_type": "markdown",
   "metadata": {
    "collapsed": true
   },
   "source": [
    "*:)*"
   ]
  }
 ],
 "metadata": {
  "kernelspec": {
   "display_name": "Python 3 (ipykernel)",
   "language": "python",
   "name": "python3"
  },
  "language_info": {
   "codemirror_mode": {
    "name": "ipython",
    "version": 3
   },
   "file_extension": ".py",
   "mimetype": "text/x-python",
   "name": "python",
   "nbconvert_exporter": "python",
   "pygments_lexer": "ipython3",
   "version": "3.10.4"
  }
 },
 "nbformat": 4,
 "nbformat_minor": 1
}
