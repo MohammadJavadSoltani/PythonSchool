{
 "cells": [
  {
   "cell_type": "markdown",
   "metadata": {},
   "source": [
    "## if statement\n",
    "Python programming language assumes any non-zero and non-null values as TRUE, and if it is either zero or null, then it is assumed as FALSE value."
   ]
  },
  {
   "cell_type": "code",
   "execution_count": null,
   "metadata": {},
   "outputs": [],
   "source": [
    "# if (condition):\n",
    "#     statement"
   ]
  },
  {
   "cell_type": "code",
   "execution_count": 8,
   "metadata": {},
   "outputs": [
    {
     "name": "stdout",
     "output_type": "stream",
     "text": [
      "value of expression is 100.\n",
      "13\n",
      "wow\n"
     ]
    }
   ],
   "source": [
    "# if statements\n",
    "# An if statement consists of a boolean expression followed by one or more statements.\n",
    "val = 10\n",
    "\n",
    "if val == 10:\n",
    "    print('value of expression is 100.')\n",
    "    print(val + 3)\n",
    "\n",
    "print('wow')"
   ]
  },
  {
   "cell_type": "markdown",
   "metadata": {},
   "source": [
    "### Scope"
   ]
  },
  {
   "cell_type": "code",
   "execution_count": 10,
   "metadata": {},
   "outputs": [
    {
     "name": "stdout",
     "output_type": "stream",
     "text": [
      "value of expression is 100\n",
      "pooya\n",
      "wow\n"
     ]
    }
   ],
   "source": [
    "val = 100\n",
    "\n",
    "if val == 100:\n",
    "    print('value of expression is 100')      \n",
    "    print('pooya')        \n",
    "print('wow')"
   ]
  },
  {
   "cell_type": "code",
   "execution_count": 12,
   "metadata": {},
   "outputs": [
    {
     "name": "stdout",
     "output_type": "stream",
     "text": [
      "value of expression is 100\n"
     ]
    }
   ],
   "source": [
    "# if...else statements\n",
    "# An if statement can be followed by an optional else statement, which executes when the boolean expression is FALSE.\n",
    "\n",
    "# if condition:\n",
    "#     statement1\n",
    "# else:\n",
    "#     statement2\n",
    "\n",
    "val = 1001\n",
    "\n",
    "if val == 100:\n",
    "    print('value of expression is 100')   \n",
    "else:\n",
    "    print('value of expression is not 100')   "
   ]
  },
  {
   "cell_type": "code",
   "execution_count": 15,
   "metadata": {},
   "outputs": [
    {
     "name": "stdout",
     "output_type": "stream",
     "text": [
      "value of expression is smaller than 100\n"
     ]
    }
   ],
   "source": [
    "# nested if statements\n",
    "# You can use one if or else if statement inside another if or else if(elif) statement(s).\n",
    "\n",
    "# if condition1:\n",
    "#     statement1\n",
    "# elif condition2\n",
    "#     statement2\n",
    "# elif condition4\n",
    "#     statement4\n",
    "# elif condition5\n",
    "#     statement5\n",
    "# else:\n",
    "#     statement3\n",
    "\n",
    "val = 1\n",
    "\n",
    "if val > 100:\n",
    "    print('value of expression is more than 100')   \n",
    "elif val == 100:\n",
    "    print('value of expression is 100')   \n",
    "else:\n",
    "    print('value of expression is smaller than 100')   \n"
   ]
  },
  {
   "cell_type": "code",
   "execution_count": 21,
   "metadata": {},
   "outputs": [
    {
     "name": "stdout",
     "output_type": "stream",
     "text": [
      "impossible :(\n"
     ]
    }
   ],
   "source": [
    "if 0:\n",
    "    print('impossible :(')\n",
    "else:\n",
    "    print('zero means False')"
   ]
  },
  {
   "cell_type": "code",
   "execution_count": 22,
   "metadata": {},
   "outputs": [
    {
     "name": "stdout",
     "output_type": "stream",
     "text": [
      "wow\n"
     ]
    }
   ],
   "source": [
    "if -0.00000000000001:\n",
    "    print('wow')"
   ]
  },
  {
   "cell_type": "code",
   "execution_count": 23,
   "metadata": {},
   "outputs": [
    {
     "name": "stdout",
     "output_type": "stream",
     "text": [
      "None means False\n"
     ]
    }
   ],
   "source": [
    "if None:\n",
    "    print('impossible :(')\n",
    "else:\n",
    "    print('None means False')"
   ]
  },
  {
   "cell_type": "code",
   "execution_count": 25,
   "metadata": {},
   "outputs": [
    {
     "name": "stdout",
     "output_type": "stream",
     "text": [
      "empty means False\n"
     ]
    }
   ],
   "source": [
    "empty_lst = []\n",
    "if empty_lst:\n",
    "    print('impossible :(')\n",
    "else:\n",
    "    print('empty means False')"
   ]
  },
  {
   "cell_type": "code",
   "execution_count": 26,
   "metadata": {},
   "outputs": [
    {
     "name": "stdout",
     "output_type": "stream",
     "text": [
      "1\n"
     ]
    }
   ],
   "source": [
    "lst = [1,2,3]\n",
    "if len(lst) != 0: # not recommended\n",
    "    print(lst[0])"
   ]
  },
  {
   "cell_type": "code",
   "execution_count": 27,
   "metadata": {},
   "outputs": [
    {
     "name": "stdout",
     "output_type": "stream",
     "text": [
      "1\n"
     ]
    }
   ],
   "source": [
    "lst = [1,2,3]\n",
    "if lst: # recommended\n",
    "    print(lst[0])"
   ]
  },
  {
   "cell_type": "markdown",
   "metadata": {},
   "source": [
    "*:)*"
   ]
  }
 ],
 "metadata": {
  "kernelspec": {
   "display_name": "Python 3 (ipykernel)",
   "language": "python",
   "name": "python3"
  },
  "language_info": {
   "codemirror_mode": {
    "name": "ipython",
    "version": 3
   },
   "file_extension": ".py",
   "mimetype": "text/x-python",
   "name": "python",
   "nbconvert_exporter": "python",
   "pygments_lexer": "ipython3",
   "version": "3.10.4"
  }
 },
 "nbformat": 4,
 "nbformat_minor": 2
}
